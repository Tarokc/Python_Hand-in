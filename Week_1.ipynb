{
 "cells": [
  {
   "cell_type": "markdown",
   "metadata": {},
   "source": [
    "# Week 1 handin"
   ]
  },
  {
   "cell_type": "markdown",
   "metadata": {},
   "source": [
    "## 01 Assignment\n",
    "https://github.com/Hartmannsolution/docker_notebooks/blob/master/notebooks/01-Exercise.ipynb"
   ]
  },
  {
   "cell_type": "markdown",
   "metadata": {},
   "source": [
    "## 02 Status\n",
    "Here is a status on the handin. How far you got. What is implemented and what is not"
   ]
  },
  {
   "cell_type": "markdown",
   "metadata": {},
   "source": [
    "## 03 Solution part 1"
   ]
  },
  {
   "cell_type": "code",
   "execution_count": 1,
   "metadata": {},
   "outputs": [],
   "source": [
    "import math"
   ]
  },
  {
   "cell_type": "code",
   "execution_count": 2,
   "metadata": {},
   "outputs": [
    {
     "name": "stdout",
     "output_type": "stream",
     "text": [
      "['Hans', 'Hermann']\n"
     ]
    }
   ],
   "source": [
    "#1_A\n",
    "names = ['Hans', 'Bo', 'Hermann', 'Carl', 'Ludwig']\n",
    "my_names = [name for name in names if name[0] == 'H']\n",
    "print(my_names)"
   ]
  },
  {
   "cell_type": "code",
   "execution_count": 3,
   "metadata": {},
   "outputs": [
    {
     "name": "stdout",
     "output_type": "stream",
     "text": [
      "[1, 8, 27, 64, 125, 216, 343, 512, 729, 1000, 1331, 1728, 2197, 2744, 3375, 4096, 4913, 5832, 6859, 8000, 9261, 10648, 12167, 13824, 15625, 17576, 19683, 21952, 24389, 27000, 29791, 32768, 35937, 39304, 42875, 46656, 50653, 54872, 59319, 64000, 68921, 74088, 79507, 85184, 91125, 97336, 103823, 110592, 117649, 125000, 132651, 140608, 148877, 157464, 166375, 175616, 185193, 195112, 205379, 216000, 226981, 238328, 250047, 262144, 274625, 287496, 300763, 314432, 328509, 343000, 357911, 373248, 389017, 405224, 421875, 438976, 456533, 474552, 493039, 512000, 531441, 551368, 571787, 592704, 614125, 636056, 658503, 681472, 704969, 729000, 753571, 778688, 804357, 830584, 857375, 884736, 912673, 941192, 970299, 1000000]\n"
     ]
    }
   ],
   "source": [
    "#1_B\n",
    "my_numbers = [number ** 3 for number in range(1,101)]\n",
    "print(my_numbers)"
   ]
  },
  {
   "cell_type": "code",
   "execution_count": 4,
   "metadata": {},
   "outputs": [
    {
     "name": "stdout",
     "output_type": "stream",
     "text": [
      "[(4, 'Hans'), (2, 'Bo'), (7, 'Hermann'), (4, 'Carl'), (6, 'Ludwig')]\n"
     ]
    }
   ],
   "source": [
    "#1_C\n",
    "my_list_of_tuples = [(len(name), name) for name in names]\n",
    "print(my_list_of_tuples)"
   ]
  },
  {
   "cell_type": "code",
   "execution_count": 5,
   "metadata": {},
   "outputs": [
    {
     "name": "stdout",
     "output_type": "stream",
     "text": [
      "The numeric values are: ['2', '4', '4', '9', '3', '3', '8', '3', '8']\n"
     ]
    }
   ],
   "source": [
    "#1_D\n",
    "string = 'slfv244kd9d_3b3bdif83ne8'\n",
    "print(\"The numeric values are: \", end = \"\")\n",
    "numeric_values = [char for char in string if char.isnumeric()]\n",
    "print(numeric_values)"
   ]
  },
  {
   "cell_type": "code",
   "execution_count": 6,
   "metadata": {},
   "outputs": [
    {
     "name": "stdout",
     "output_type": "stream",
     "text": [
      "{(1, 3), (6, 6), (5, 6), (2, 1), (6, 2), (1, 6), (5, 1), (2, 5), (1, 2), (3, 3), (5, 5), (4, 4), (6, 3), (1, 5), (3, 6), (2, 2), (4, 1), (1, 1), (6, 4), (3, 2), (2, 6), (5, 4), (4, 5), (5, 2), (1, 4), (2, 3), (4, 2), (6, 5), (3, 5), (5, 3), (4, 6), (6, 1), (3, 1), (4, 3), (3, 4), (2, 4)}\n"
     ]
    }
   ],
   "source": [
    "#1_E\n",
    "combinations = {(dice1, dice2) for dice1 in range(1,7) for dice2 in range(1,7)}\n",
    "print(combinations)"
   ]
  },
  {
   "cell_type": "markdown",
   "metadata": {},
   "source": [
    "## 04 Solution part 2"
   ]
  },
  {
   "cell_type": "code",
   "execution_count": 7,
   "metadata": {},
   "outputs": [
    {
     "name": "stdout",
     "output_type": "stream",
     "text": [
      "{'Hans': 4, 'Bo': 2, 'Hermann': 7, 'Carl': 4, 'Ludwig': 6}\n"
     ]
    }
   ],
   "source": [
    "#2_A\n",
    "dict_of_names = {name: len(name) for name in names}\n",
    "print(dict_of_names)"
   ]
  },
  {
   "cell_type": "code",
   "execution_count": 8,
   "metadata": {},
   "outputs": [
    {
     "name": "stdout",
     "output_type": "stream",
     "text": [
      "{1: 1.0, 4: 2.0, 2: 1.4142135623730951, 7: 2.6457513110645907, 44: 6.6332495807108, 88: 9.38083151964686, 32: 5.656854249492381}\n"
     ]
    }
   ],
   "source": [
    "#2_B\n",
    "numbers = [1, 4, 2 ,7, 44, 88, 32]\n",
    "dict_of_numbers = {number:math.sqrt(number) for number in numbers}\n",
    "print(dict_of_numbers)"
   ]
  },
  {
   "cell_type": "markdown",
   "metadata": {},
   "source": [
    "## 05 Solution extra assignment"
   ]
  },
  {
   "cell_type": "code",
   "execution_count": 10,
   "metadata": {},
   "outputs": [
    {
     "name": "stdout",
     "output_type": "stream",
     "text": [
      "{2: '2.778%', 3: '5.556%', 4: '8.333%', 5: '11.111%', 6: '13.889%', 7: '16.667%', 8: '13.889%', 9: '11.111%', 10: '8.333%', 11: '5.556%', 12: '2.778%'}\n"
     ]
    }
   ],
   "source": [
    "combinations = [dice1 + dice2 for dice1 in range(1,7) for dice2 in range(1,7)]\n",
    " \n",
    "exact_combination = set(combinations)\n",
    "#print(combinations)\n",
    "#print(exact_combination)\n",
    " \n",
    "probability = {exact_combination: str(round(combinations.count(exact_combination) / len(combinations) * 100, 3)) + '%' for exact_combination in combinations}\n",
    "print(probability)"
   ]
  },
  {
   "cell_type": "code",
   "execution_count": null,
   "metadata": {},
   "outputs": [],
   "source": []
  }
 ],
 "metadata": {
  "kernelspec": {
   "display_name": "Python 3",
   "language": "python",
   "name": "python3"
  },
  "language_info": {
   "codemirror_mode": {
    "name": "ipython",
    "version": 3
   },
   "file_extension": ".py",
   "mimetype": "text/x-python",
   "name": "python",
   "nbconvert_exporter": "python",
   "pygments_lexer": "ipython3",
   "version": "3.7.6"
  }
 },
 "nbformat": 4,
 "nbformat_minor": 4
}
