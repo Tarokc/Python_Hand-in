{
 "cells": [
  {
   "cell_type": "markdown",
   "metadata": {},
   "source": [
    "# Week 5 hand-in"
   ]
  },
  {
   "cell_type": "markdown",
   "metadata": {},
   "source": [
    "## 01 Assingment\n",
    "https://github.com/Hartmannsolution/docker_notebooks/blob/master/notebooks/05-Exercise.ipynb"
   ]
  },
  {
   "cell_type": "markdown",
   "metadata": {},
   "source": [
    "## 02 Status\n",
    "Some of the exercises has been completed"
   ]
  },
  {
   "cell_type": "code",
   "execution_count": null,
   "metadata": {},
   "outputs": [],
   "source": []
  },
  {
   "cell_type": "code",
   "execution_count": null,
   "metadata": {},
   "outputs": [],
   "source": []
  },
  {
   "cell_type": "code",
   "execution_count": null,
   "metadata": {},
   "outputs": [],
   "source": []
  },
  {
   "cell_type": "code",
   "execution_count": 2,
   "metadata": {},
   "outputs": [],
   "source": [
    "import pandas as pd"
   ]
  },
  {
   "cell_type": "code",
   "execution_count": 3,
   "metadata": {},
   "outputs": [],
   "source": [
    "data = pd.read_csv('https://api.statbank.dk/v1/data/FOLK1A/CSV?valuePresentation=CodeAndValue&delimiter=Semicolon&CIVILSTAND=F&Tid=2008K1%2C2020K1', delimiter=';')"
   ]
  },
  {
   "cell_type": "code",
   "execution_count": 4,
   "metadata": {},
   "outputs": [
    {
     "data": {
      "text/plain": [
       "['CIVILSTAND', 'TID', 'INDHOLD']"
      ]
     },
     "execution_count": 4,
     "metadata": {},
     "output_type": "execute_result"
    }
   ],
   "source": [
    "list(data.columns)"
   ]
  },
  {
   "cell_type": "code",
   "execution_count": 5,
   "metadata": {},
   "outputs": [
    {
     "data": {
      "text/plain": [
       "26.983845694672425"
      ]
     },
     "execution_count": 5,
     "metadata": {},
     "output_type": "execute_result"
    }
   ],
   "source": [
    "#1.5.A What is the change in pct of divorced danes from 2008 to 2020?\n",
    "\n",
    "divorced_2008 = data.iloc[0][2]\n",
    "divorced_2020 = data.iloc[1][2]\n",
    "divorce_change = (divorced_2020 / divorced_2008) * 100 - 100\n",
    "divorce_change"
   ]
  },
  {
   "cell_type": "code",
   "execution_count": 198,
   "metadata": {},
   "outputs": [
    {
     "name": "stdout",
     "output_type": "stream",
     "text": [
      "101 København\n"
     ]
    }
   ],
   "source": [
    "#1.5.B Which of the 5 biggest cities has the highest percentage of 'Never Married' in 2020?\n",
    "\n",
    "data = pd.read_csv('https://api.statbank.dk/v1/data/FOLK1A/CSV?valuePresentation=CodeAndValue&delimiter=Semicolon&OMR%C3%85DE=*&CIVILSTAND=U%2CTOT&Tid=2020K1', delimiter=';')\n",
    "data['TID'] = data['TID'].map(lambda x:x[:-9])\n",
    "\n",
    "region_mask = ~(data.iloc[:,0].str.startswith('0'))\n",
    "data = data[region_mask]\n",
    "# data\n",
    "civilstand_total_mask = (data.iloc[:,1] == 'TOT I alt')\n",
    "total_data = data[civilstand_total_mask].sort_values(by=['INDHOLD'], ascending=False).head()\n",
    "# print(total_data)\n",
    "civilstand_unmarried_mask = ~(data.iloc[:,1] == 'TOT I alt')\n",
    "unmarried_data = data[civilstand_unmarried_mask]\n",
    "\n",
    "# print(total_data.iloc[0][0])\n",
    "percentage_by_city = {}\n",
    "\n",
    "for x in range(len(total_data)):\n",
    "    område_mask = (unmarried_data.iloc[:,0] == total_data.iloc[x][0])\n",
    "    unmarried_by_city = (unmarried_data[område_mask].iloc[0][3])\n",
    "\n",
    "    percentage = (unmarried_by_city / total_data.iloc[x][3]) * 100\n",
    "#     print(percentage)\n",
    "    percentage_by_city[total_data.iloc[x][0]] = percentage\n",
    "    \n",
    "my_dict = dict(sorted(percentage_by_city.items(), key=lambda item: item[1], reverse=True))\n",
    "print(list(my_dict)[0])"
   ]
  }
 ],
 "metadata": {
  "kernelspec": {
   "display_name": "Python 3",
   "language": "python",
   "name": "python3"
  },
  "language_info": {
   "codemirror_mode": {
    "name": "ipython",
    "version": 3
   },
   "file_extension": ".py",
   "mimetype": "text/x-python",
   "name": "python",
   "nbconvert_exporter": "python",
   "pygments_lexer": "ipython3",
   "version": "3.7.6"
  }
 },
 "nbformat": 4,
 "nbformat_minor": 4
}
