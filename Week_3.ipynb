{
 "cells": [
  {
   "cell_type": "markdown",
   "source": [
    "# Week 2 hand-in"
   ],
   "metadata": {}
  },
  {
   "cell_type": "markdown",
   "source": [
    "## 01 Assignment\r\n",
    "https://github.com/Hartmannsolution/docker_notebooks/blob/master/notebooks/03-Exercise.ipynb"
   ],
   "metadata": {}
  },
  {
   "cell_type": "markdown",
   "source": [
    "## 02 Status\r\n",
    "Almost made is through exercise 1, had some trouble with writing to file, and ran out of time."
   ],
   "metadata": {}
  },
  {
   "cell_type": "markdown",
   "source": [
    "## 03 Solution part 1: Classes\r\n"
   ],
   "metadata": {}
  },
  {
   "cell_type": "code",
   "execution_count": 9,
   "source": [
    "class Student():\r\n",
    "    \r\n",
    "    def __init__(self, name, gender, image_url, data_sheet=[]):\r\n",
    "        self.name = name\r\n",
    "        self.gender = gender\r\n",
    "        self.image_url = image_url\r\n",
    "        self.data_sheet = data_sheet\r\n",
    "        \r\n",
    "    def get_avg_grade(self):\r\n",
    "        grade_sum = 0\r\n",
    "        for course in self.data_sheet:\r\n",
    "            grade_sum += course.get_grade()\r\n",
    "        return 'Students avg grade is: ' + str(grade_sum / len(self.data_sheet))\r\n",
    "    \r\n",
    "    def __repr__(self):\r\n",
    "        return '%r, %r, %r, %r' % (self.name, self.gender, self.data_sheet, self.image_url)\r\n",
    "        \r\n",
    "        "
   ],
   "outputs": [],
   "metadata": {}
  },
  {
   "cell_type": "code",
   "execution_count": 10,
   "source": [
    "class DataSheet():\r\n",
    "    \r\n",
    "    def __init__(self, courses):\r\n",
    "        self.courses = []\r\n",
    "        for course in courses:\r\n",
    "            new_course = Course(course)\r\n",
    "            self.data_sheet.append(new_course)\r\n",
    "        \r\n",
    "    def get_grades_as_list(self):\r\n",
    "        for course in self.courses:\r\n",
    "            course.get_grade()\r\n",
    "            \r\n",
    "    def __repr__(self):\r\n",
    "        return '%r' % (self.courses)\r\n",
    "        \r\n",
    "        "
   ],
   "outputs": [],
   "metadata": {}
  },
  {
   "cell_type": "code",
   "execution_count": 11,
   "source": [
    "class Course():\r\n",
    "    \r\n",
    "    def __init__(self, name, classroom, teacher, ETCS, grade=None):\r\n",
    "        self.name = name\r\n",
    "        self.classroom = classroom\r\n",
    "        self.teacher = teacher\r\n",
    "        self.ETCS = ETCS\r\n",
    "        self.grade = grade\r\n",
    "        \r\n",
    "    def __repr__(self):\r\n",
    "        return '%r, %r, %r, %r, %r' % (self.name, self.teacher,self.classroom, self.ETCS, self.grade)\r\n",
    "        \r\n",
    "    #def __str__(self):\r\n",
    "      #  return '{name} taugh by {teacher} in classroom {classroom} is worth {ETCS} ETCS. Student grade: {grade}.'.format(\r\n",
    "       # name=self.name, teacher=self.teacher, classroom=self.classroom, ETCS=self.ETCS, grade=self.grade)\r\n",
    "    \r\n",
    "    def get_grade(self):\r\n",
    "        return self.grade\r\n",
    "    \r\n",
    "    def get_name(self):\r\n",
    "        return self.name\r\n",
    "    "
   ],
   "outputs": [],
   "metadata": {}
  },
  {
   "cell_type": "code",
   "execution_count": 12,
   "source": [
    "tmp_student = Student('Mathias', 'Male', 'some_url', ['Data Science', 'Google IT Support'])"
   ],
   "outputs": [],
   "metadata": {}
  },
  {
   "cell_type": "code",
   "execution_count": 13,
   "source": [
    "print(tmp_student.__dict__)"
   ],
   "outputs": [
    {
     "output_type": "stream",
     "name": "stdout",
     "text": [
      "{'name': 'Mathias', 'gender': 'Male', 'image_url': 'some_url', 'data_sheet': ['Data Science', 'Google IT Support']}\n"
     ]
    }
   ],
   "metadata": {}
  },
  {
   "cell_type": "code",
   "execution_count": 14,
   "source": [
    "import random"
   ],
   "outputs": [],
   "metadata": {}
  },
  {
   "cell_type": "code",
   "execution_count": 15,
   "source": [
    "with open('./data/boy_names.txt') as b:\r\n",
    "    boy_names = [name.strip() for name in b]\r\n",
    "    \r\n",
    "with open('./data/girl_names.txt') as g:\r\n",
    "    girl_names = [name.strip() for name in g]\r\n",
    "    \r\n",
    "with open('./data/last_names.txt') as l:\r\n",
    "    last_names = [name.strip() for name in l]\r\n",
    "    \r\n",
    "with open('./data/courses.txt') as c:\r\n",
    "    courses = [course.strip() for course in c]\r\n",
    "    \r\n",
    "\r\n",
    "    \r\n"
   ],
   "outputs": [],
   "metadata": {}
  },
  {
   "cell_type": "code",
   "execution_count": 16,
   "source": [
    "def roll_course(tmp_courses):\r\n",
    "    possible_grades = [-3, 0, 2, 4, 7, 10, 12]\r\n",
    "    course_name = random.choice(courses)\r\n",
    "    classroom = random.randint(1, 1000)\r\n",
    "    teacher = 'Prof. ' + random.choice(last_names)\r\n",
    "    ETCS = random.randrange(5,26,5)\r\n",
    "    #print(ETCS)\r\n",
    "    grade = random.choice(possible_grades)\r\n",
    "    #print(course_name)\r\n",
    "    if course_name in tmp_courses:\r\n",
    "        #print('Course already exists')\r\n",
    "        roll_course(tmp_courses)\r\n",
    "    else:\r\n",
    "        new_course = Course(course_name, classroom, teacher, ETCS, grade)\r\n",
    "        tmp_courses.append(new_course)\r\n",
    "    return new_course"
   ],
   "outputs": [],
   "metadata": {}
  },
  {
   "cell_type": "code",
   "execution_count": 17,
   "source": [
    "def create_students(amount):\r\n",
    "    students = []\r\n",
    "    for x in range(amount):\r\n",
    "        course_amount = random.randint(1, len(courses))\r\n",
    "        tmp_courses = []\r\n",
    "        #print(course_amount)\r\n",
    "        for amount in range(course_amount):\r\n",
    "            roll_course(tmp_courses)\r\n",
    "        if x % 2 == 0:\r\n",
    "            tmp_name = random.choice(boy_names)\r\n",
    "            gender = 'male'\r\n",
    "        else:\r\n",
    "            tmp_name = random.choice(girl_names)\r\n",
    "            gender = 'female'\r\n",
    "            \r\n",
    "            \r\n",
    "            \r\n",
    "        students.append(Student(tmp_name, gender, 'some_url', tmp_courses))\r\n",
    "            \r\n",
    "    return students\r\n",
    "\r\n",
    "students = create_students(10)\r\n",
    "\r\n",
    "\r\n",
    "for student in students:\r\n",
    "    print(student.__dict__)"
   ],
   "outputs": [
    {
     "output_type": "stream",
     "name": "stdout",
     "text": [
      "{'name': 'Dylan', 'gender': 'male', 'image_url': 'some_url', 'data_sheet': ['Introduction to Data Science', 'Prof. Williams', 824, 15, 7, 'Google IT Support', 'Prof. Hall', 501, 5, 2, 'Data Science Fundamentals with Python and SQL', 'Prof. Perez', 779, 25, 12, 'Google IT Support', 'Prof. Clark', 140, 25, 10, 'Machine Learning', 'Prof. Martinez', 124, 20, 2, 'Introduction to Data Science', 'Prof. Green', 177, 5, 10, 'Google IT Support', 'Prof. Young', 758, 10, 7]}\n",
      "{'name': 'Adalynn', 'gender': 'female', 'image_url': 'some_url', 'data_sheet': ['Introduction to Data Science', 'Prof. Rivera', 825, 20, -3, 'Google IT Support', 'Prof. Garcia', 37, 10, 10, 'Data Science Fundamentals with Python and SQL', 'Prof. Scott', 296, 25, 7, 'Data Science Fundamentals with Python and SQL', 'Prof. Taylor', 383, 10, 10, 'Google Project Management', 'Prof. Anderson', 510, 20, 10, 'Machine Learning', 'Prof. Taylor', 518, 15, 4, 'Introduction to Data Science', 'Prof. Anderson', 66, 15, 10, 'Google Data Analytics', 'Prof. Hall', 144, 10, 10]}\n",
      "{'name': 'Nathan', 'gender': 'male', 'image_url': 'some_url', 'data_sheet': ['IBM Data Science', 'Prof. Thomas', 102, 10, 4, 'IBM Data Science', 'Prof. Adams', 683, 20, 7]}\n",
      "{'name': 'Clara', 'gender': 'female', 'image_url': 'some_url', 'data_sheet': ['IBM Data Analyst', 'Prof. Clark', 463, 25, 12]}\n",
      "{'name': 'Jeremiah', 'gender': 'male', 'image_url': 'some_url', 'data_sheet': ['Google IT Support', 'Prof. Garcia', 642, 20, 7, 'Deep Learning', 'Prof. Hernandez', 904, 5, 0]}\n",
      "{'name': 'Ximena', 'gender': 'female', 'image_url': 'some_url', 'data_sheet': ['Introduction to Data Science', 'Prof. Davis', 554, 20, 10, 'Deep Learning', 'Prof. Hernandez', 503, 5, -3, 'Google Data Analytics', 'Prof. Clark', 226, 25, 12, 'Machine Learning', 'Prof. Taylor', 533, 10, 12, 'Data Science Fundamentals with Python and SQL', 'Prof. Perez', 78, 15, 10, 'Deep Learning', 'Prof. Rodriguez', 793, 25, 2, 'Google Project Management', 'Prof. Rivera', 904, 20, 2, 'Data Science Fundamentals with Python and SQL', 'Prof. Rivera', 761, 5, 10, 'Google Project Management', 'Prof. Nguyen', 703, 25, 4, 'Introduction to Data Science', 'Prof. Scott', 633, 20, 0]}\n",
      "{'name': 'Brian', 'gender': 'male', 'image_url': 'some_url', 'data_sheet': ['Introduction to Data Science', 'Prof. Clark', 5, 5, 0, 'IBM Data Analyst', 'Prof. Moore', 680, 10, 12, 'Google IT Support', 'Prof. Jackson', 889, 10, 0, 'IBM Data Science', 'Prof. Young', 574, 10, 0, 'Google Data Analytics', 'Prof. Baker', 338, 20, 2, 'Google Data Analytics', 'Prof. Mitchell', 586, 20, 10, 'Google IT Support', 'Prof. Garcia', 29, 25, -3]}\n",
      "{'name': 'Camila', 'gender': 'female', 'image_url': 'some_url', 'data_sheet': ['Data Science Fundamentals with Python and SQL', 'Prof. Scott', 692, 10, 2, 'Google IT Support', 'Prof. Wright', 887, 10, -3, 'Deep Learning', 'Prof. Walker', 627, 10, 12, 'Google Project Management', 'Prof. Torres', 950, 25, 7, 'IBM Data Analyst', 'Prof. Martin', 105, 10, 12, 'Machine Learning', 'Prof. Hernandez', 836, 5, -3, 'Google Project Management', 'Prof. Torres', 526, 5, 4, 'Machine Learning', 'Prof. Rivera', 993, 15, 7, 'Google Data Analytics', 'Prof. Perez', 22, 25, 4]}\n",
      "{'name': 'Daniel', 'gender': 'male', 'image_url': 'some_url', 'data_sheet': ['Introduction to Data Science', 'Prof. Torres', 800, 20, 10, 'Data Science Fundamentals with Python and SQL', 'Prof. Hill', 742, 5, 4, 'Google UX Design', 'Prof. Green', 315, 15, 0, 'Deep Learning', 'Prof. Flores', 54, 10, 0, 'Google Project Management', 'Prof. Thomas', 350, 5, 4, 'Google UX Design', 'Prof. Nguyen', 418, 15, 4, 'IBM Data Analyst', 'Prof. Mitchell', 292, 25, 12]}\n",
      "{'name': 'Daniela', 'gender': 'female', 'image_url': 'some_url', 'data_sheet': ['Google Data Analytics', 'Prof. Mitchell', 334, 15, 4, 'Google Project Management', 'Prof. Lewis', 889, 20, 12, 'Deep Learning', 'Prof. Hill', 649, 5, 2, 'Google Data Analytics', 'Prof. Lopez', 330, 20, 0, 'Google UX Design', 'Prof. Martinez', 686, 20, 10, 'Google UX Design', 'Prof. Walker', 87, 5, 0]}\n"
     ]
    }
   ],
   "metadata": {}
  },
  {
   "cell_type": "code",
   "execution_count": 18,
   "source": [
    "import csv"
   ],
   "outputs": [],
   "metadata": {}
  },
  {
   "cell_type": "code",
   "execution_count": 19,
   "source": [
    "def write_students_to_file(students, out='output.txt'):\r\n",
    "    with open(out, 'w') as file_object:\r\n",
    "        header = [\"stud_name\", \"gender\", \"course_name\", \"teacher\", \"ETCS\", \"classroom\",\"grade\", \"img_url\"]\r\n",
    "        writer = csv.writer(file_object)\r\n",
    "        writer.writerow(header)\r\n",
    "        for student in students:\r\n",
    "            for course in student.data_sheet:\r\n",
    "                writer.writerow([student.name, student.gender , course.name, course.teacher, course.ETCS, course.classroom, course.grade, student.image_url])\r\n",
    "    print(\"Students written to file\")"
   ],
   "outputs": [],
   "metadata": {}
  },
  {
   "cell_type": "code",
   "execution_count": 20,
   "source": [
    "write_students_to_file(students)"
   ],
   "outputs": [
    {
     "output_type": "stream",
     "name": "stdout",
     "text": [
      "Students written to file\n"
     ]
    }
   ],
   "metadata": {}
  }
 ],
 "metadata": {
  "kernelspec": {
   "name": "python3",
   "display_name": "Python 3.9.2 64-bit"
  },
  "language_info": {
   "codemirror_mode": {
    "name": "ipython",
    "version": 3
   },
   "file_extension": ".py",
   "mimetype": "text/x-python",
   "name": "python",
   "nbconvert_exporter": "python",
   "pygments_lexer": "ipython3",
   "version": "3.9.2"
  },
  "interpreter": {
   "hash": "2f17e2aaaa879f337e971845d31214e97f8aa09b811a0111c0670a7e23e70f91"
  }
 },
 "nbformat": 4,
 "nbformat_minor": 4
}