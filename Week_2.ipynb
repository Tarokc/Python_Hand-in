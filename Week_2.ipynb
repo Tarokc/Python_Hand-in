{
 "cells": [
  {
   "cell_type": "markdown",
   "source": [
    "# Week 2 hand-in"
   ],
   "metadata": {}
  },
  {
   "cell_type": "markdown",
   "source": [
    "## 01 Assignment\n",
    "https://github.com/Hartmannsolution/docker_notebooks/blob/master/notebooks/02-Exercise.ipynb"
   ],
   "metadata": {}
  },
  {
   "cell_type": "markdown",
   "source": [
    "## 02 Status\n",
    "Finsihed the first exercise and made 3 functions in exercise 2. Didn't make the functions work with cli"
   ],
   "metadata": {}
  },
  {
   "cell_type": "markdown",
   "source": [
    "## 03 Solution part 1"
   ],
   "metadata": {}
  },
  {
   "cell_type": "code",
   "execution_count": 12,
   "source": [
    "from modules import file_handler\r\n",
    "from modules import webget\r\n",
    "from modules import utils\r\n",
    "import argparse"
   ],
   "outputs": [],
   "metadata": {}
  },
  {
   "cell_type": "code",
   "execution_count": 3,
   "source": [
    "def print_file_content(file):\r\n",
    "    with open(file) as file:\r\n",
    "        content = file.read()\r\n",
    "    print(content)\r\n",
    "\r\n",
    "\r\n",
    "def write_list_to_file(output_file, *strings):\r\n",
    "    with open(output_file, 'w') as file:\r\n",
    "        for item in strings:\r\n",
    "            if type(item) == list:\r\n",
    "                for list_item in item:\r\n",
    "                    file.write(str(list_item.strip().split('\\n')) + '\\n')\r\n",
    "            file.write(str(item) + '\\n')\r\n",
    "\r\n",
    "\r\n",
    "def read_csv(file):\r\n",
    "    with open(file) as file:\r\n",
    "        content = file.readlines()\r\n",
    "        return [item for item in content]\r\n"
   ],
   "outputs": [],
   "metadata": {}
  },
  {
   "cell_type": "code",
   "execution_count": 6,
   "source": [
    "# 1_A\r\n",
    "\r\n",
    "url = 'https://docs.google.com/uc?export=download&id=1W3Yb8Fr8WA8yU6zjjsvPJ8D1h_LYDzIL'\r\n",
    "webget.download(url)\r\n",
    "\r\n",
    "file_handler.print_file_content('Sample100.csv')"
   ],
   "outputs": [
    {
     "output_type": "stream",
     "name": "stdout",
     "text": [
      "Serial Number,Company Name,Employee Markme,Description,Leave\n",
      "9788189999599,TALES OF SHIVA,Mark,mark,0\n",
      "9780099578079,1Q84 THE COMPLETE TRILOGY,HARUKI MURAKAMI,Mark,0\n",
      "9780198082897,MY KUMAN,Mark,Mark,0\n",
      "9780007880331,THE GOD OF SMAAL THINGS,ARUNDHATI ROY,4TH HARPER COLLINS,2\n",
      "9780545060455,THE BLACK CIRCLE,Mark,4TH HARPER COLLINS,0\n",
      "9788126525072,THE THREE LAWS OF PERFORMANCE,Mark,4TH HARPER COLLINS,0\n",
      "9789381626610,CHAMarkKYA MANTRA,Mark,4TH HARPER COLLINS,0\n",
      "9788184513523,59.FLAGS,Mark,4TH HARPER COLLINS,0\n",
      "9780743234801,THE POWER OF POSITIVE THINKING FROM,Mark,A & A PUBLISHER,0\n",
      "9789381529621,YOU CAN IF YO THINK YO CAN,PEALE,A & A PUBLISHER,0\n",
      "9788183223966,DONGRI SE DUBAI TAK (MPH),Mark,A & A PUBLISHER,0\n",
      "9788187776005,MarkLANDA ADYTAN KOSH,Mark,AADISH BOOK DEPOT,0\n",
      "9788187776013,MarkLANDA VISHAL SHABD SAGAR,-,AADISH BOOK DEPOT,1\n",
      "8187776021,MarkLANDA CONCISE DICT(ENG TO HINDI),Mark,AADISH BOOK DEPOT,0\n",
      "9789384716165,LIEUTEMarkMarkT GENERAL BHAGAT: A SAGA OF BRAVERY AND LEADERSHIP,Mark,AAM COMICS,2\n",
      "9789384716233,LN. MarkIK SUNDER SINGH,N.A,AAN COMICS,0\n",
      "9789384850319,I AM KRISHMark,DEEP TRIVEDI,AATMAN INNOVATIONS PVT LTD,1\n",
      "9789384850357,DON'T TEACH ME TOLERANCE INDIA,DEEP TRIVEDI,AATMAN INNOVATIONS PVT LTD,0\n",
      "9789384850364,MUJHE SAHISHNUTA MAT SIKHAO BHARAT,DEEP TRIVEDI,AATMAN INNOVATIONS PVT LTD,0\n",
      "9789384850746,SECRETS OF DESTINY,DEEP TRIVEDI,AATMAN INNOVATIONS PVT LTD,1\n",
      "9789384850753,BHAGYA KE RAHASYA (HINDI) SECRET OF DESTINY,DEEP TRIVEDI,AATMAN INNOVATIONS PVT LTD,1\n",
      "9788192669038,MEIN MANN HOON,DEEP TRIVEDI,AATMAN INNOVATIONS PVT LTD,0\n",
      "9789384850098,I AM THE MIND,DEEP TRIVEDI,AATMARAM & SONS,0\n",
      "9780349121420,THE ART OF CHOOSING,SHEEMark IYENGAR,ABACUS,0\n",
      "9780349123462,IN SPITE OF THE GODS,EDWARD LUCE,ABACUS,1\n",
      "9788188440061,QUESTIONS & ANWERS ABOUT THE GREAT BIBLE,Mark,ABC PUBLISHERS DISTRIBUTORS,4\n",
      "9789382088189,NIBANDH EVAM KAHANI LEKHAN { HINDI },Mark,ABHI BOOKS,1\n",
      "9789332703759,INDIAN ECONOMY SINCE INDEPENDENCE 27TH /E,UMA KAPILA,ACADEMIC FOUNDATION,1\n",
      "9788171888016,ECONOMIC DEVELOPMENT AND POLICY IN INDIA,UMA KAPILA,ACADEMIC FOUNDATION,1\n",
      "9789332704343,INDIAN ECONOMY PERFORMANCE 18TH/E  2017-2018,UMA KAPILA,ACADEMIC FOUNDATION,2\n",
      "9789332703735,INDIAN ECONOMIC DEVELOPMENTSINCE 1947 (NO RETURMarkBLE),UMA KAPILA,ACADEMIC FOUNDATION,1\n",
      "9789383454143,PRELIMS SPECIAL READING COMPREHENSION PAPER II CSAT,MarkGENDRA PRATAP,ACCESS PUBLISHING INDIA PVT.LTD,0\n",
      "9789383454204,THE CONSTITUTION OF INDIA 2ND / E,AR KHAN,ACCESS PUBLISHING INDIA PVT.LTD,10\n",
      "9789386361011,\"INDIAN HERITAGE ,ART & CULTURE\",MADHUKAR,ACCESS PUBLISHING INDIA PVT.LTD,10\n",
      "9789383454303,BHARAT KA SAMVIDHAN,AR KHAN,ACCESS PUBLISHING INDIA PVT.LTD,4\n",
      "9789383454471,\"ETHICS, INTEGRITY & APTITUDE ( 3RD/E)\",\"P N ROY ,G SUBBA RAO\",ACCESS PUBLISHING INDIA PVT.LTD,10\n",
      "9789383454563,GENERAL STUDIES PAPER -- I (2016),Mark,ACCESS PUBLISHING INDIA PVT.LTD,0\n",
      "9789383454570,GENERAL STUDIES PAPER - II (2016),Mark,ACCESS PUBLISHING INDIA PVT.LTD,0\n",
      "9789383454693,INDIAN AND WORLD GEOGRAPHY 2E,D R KHULLAR,ACCESS PUBLISHING INDIA PVT.LTD,10\n",
      "9789383454709,VASTUNISTHA PRASHN SANGRAHA: BHARAT KA ITIHAS,MEEMarkKSHI KANT,ACCESS PUBLISHING INDIA PVT.LTD,0\n",
      "9789383454723,\"PHYSICAL, HUMAN AND ECONOMIC GEOGRAPHY\",D R KHULLAR,ACCESS PUBLISHING INDIA PVT.LTD,4\n",
      "9789383454730,WORLD GEOGRAPHY,DR KHULLAR,ACCESS PUBLISHING INDIA PVT.LTD,5\n",
      "9789383454822,INDIA: MAP ENTRIES IN GEOGRAPHY,MAJID HUSAIN,ACCESS PUBLISHING INDIA PVT.LTD,5\n",
      "9789383454853,GOOD GOVERMarkNCE IN INDIA 2/ED.,G SUBBA RAO,ACCESS PUBLISHING INDIA PVT.LTD,1\n",
      "9789383454884,KAMYABI KE SUTRA-CIVIL SEWA PARIKSHA AAP KI MUTTHI MEIN,ASHOK KUMAR,ACCESS PUBLISHING INDIA PVT.LTD,0\n",
      "9789383454891,GENERAL SCIENCE PRELIRY EXAM,Mark,ACCESS PUBLISHING INDIA PVT.LTD,0\n",
      "9781742860190,SUCCESS AND DYSLEXIA,SUCCESS AND DYSLEXIA,ACER PRESS,0\n",
      "9781742860114,AN EXTRAORDIMarkRY SCHOOL,SARA JAMES,ACER PRESS,0\n",
      "9781742861463,POWERFUL PRACTICES FOR READING IMPROVEMENT,GLASSWELL,ACER PRESS,0\n",
      "9781742862859,EARLY CHILDHOOD PLAY MATTERS,SHOMark BASS,ACER PRESS,0\n",
      "9781742863641,LEADING LEARNING AND TEACHING,STEPHEN DINHAM,ACER PRESS,0\n",
      "9781742863658,READING AND LEARNING DIFFICULTIES,PETER WESTWOOD,ACER PRESS,0\n",
      "9781742863665,NUMERACY AND LEARNING DIFFICULTIES,PETER WOODLAND],ACER PRESS,0\n",
      "9781742863771,TEACHING AND LEARNING DIFFICULTIES,PETER WOODLAND,ACER PRESS,0\n",
      "9781742861678,USING DATA TO IMPROVE LEARNING,ANTHONY SHADDOCK,ACER PRESS,0\n",
      "9781742862484,PATHWAYS TO SCHOOL SYSTEM IMPROVEMENT,MICHAEL GAFFNEY,ACER PRESS,0\n",
      "9781742860176,FOR THOSE WHO TEACH,PHIL RIDDEN,ACER PRESS,0\n",
      "9781742860213,KEYS TO SCHOOL LEADERSHIP,PHIL RIDDEN & JOHN DE NOBILE,ACER PRESS,0\n",
      "9781742860220,DIVERSE LITERACIES IN EARLY CHILDHOOD,LEONIE ARTHUR,ACER PRESS,0\n",
      "9781742860237,CREATIVE ARTS IN THE LIVESOF YOUNG CHILDREN,ROBYN EWING,ACER PRESS,0\n",
      "9781742860336,SOCIAL AND EMOTIOMarkL DEVELOPMENT,ROS LEYDEN AND ERIN SHALE,ACER PRESS,0\n",
      "9781742860343,DISCUSSIONS IN SCIENCE,TIM SPROD,ACER PRESS,0\n",
      "9781742860404,YOUNG CHILDREN LEARNING MATHEMATICS,ROBERT HUNTING,ACER PRESS,0\n",
      "9781742860626,COACHING CHILDREN,KELLY SUMICH,ACER PRESS,1\n",
      "9781742860923,TEACHING PHYSICAL EDUCATIOMarkL IN PRIMARY SCHOOL,JANET L CURRIE,ACER PRESS,0\n",
      "9781742861111,ASSESSMENT AND REPORTING,PHIL RIDDEN AND SANDY,ACER PRESS,0\n",
      "9781742861302,COLLABORATION IN LEARNING,MAL LEE AND LORRAE WARD,ACER PRESS,0\n",
      "9780864315250,RE-IMAGINING EDUCATIMarkL LEADERSHIP,BRIAN J.CALDWELL,ACER PRESS,0\n",
      "9780864317025,TOWARDS A MOVING SCHOOL,FLEMING & KLEINHENZ,ACER PRESS,0\n",
      "9780864317230,DESINGNING A THINKING A CURRICULAM,SUSAN WILKS,ACER PRESS,0\n",
      "9780864318961,LEADING A DIGITAL SCHOOL,MAL LEE AND MICHEAL GAFFNEY,ACER PRESS,0\n",
      "9780864319043,NUMERACY,WESTWOOD,ACER PRESS,0\n",
      "9780864319203,TEACHING ORAL LANGUAGE,JOHN MUNRO,ACER PRESS,0\n",
      "9780864319449,SPELLING,WESTWOOD,ACER PRESS,0\n",
      "9788189999803,STORIES OF SHIVA,Mark,ACK,0\n",
      "9788189999988,JAMSET  JI TATA: THE MAN WHO SAW TOMORROW,,ACK,0\n",
      "9788184820355,HEROES FROM THE MAHABHARTA { 5-IN-1 },Mark,ACK,0\n",
      "9788184820553,SURYA,,ACK,0\n",
      "9788184820645,TALES OF THE MOTHER GODDESS,-,ACK,0\n",
      "9788184820652,ADVENTURES OF KRISHMark,Mark,ACK,0\n",
      "9788184822113,MAHATMA GANDHI,Mark,ACK,1\n",
      "9788184822120,TALES FROM THE PANCHATANTRA 3-IN-1,-,ACK,0\n",
      "9788184821482,YET MORE TALES FROM THE JATAKAS { 3-IN-1 },AMarkNT PAI,ACK,0\n",
      "9788184825763,LEGENDARY RULERS OF INDIA,-,ACK,0\n",
      "9788184825862,GREAT INDIAN CLASSIC,Mark,ACK,0\n",
      "9788184823219,TULSIDAS ' RAMAYAMark,Mark,ACK,0\n",
      "9788184820782,TALES OF HANUMAN,-,ACK,0\n",
      "9788184820089,VALMIKI'S RAMAYAMark,A C K,ACK,1\n",
      "9788184825213,THE BEST OF INIDAN WIT AND WISDOM,Mark,ACK,0\n",
      "9788184820997,MORE TALES FROM THE PANCHTANTRA,AMarkNT PAL,ACK,0\n",
      "9788184824018,THE GREAT MUGHALS {5-IN-1},AMarkNT.,ACK,0\n",
      "9788184824049,FAMOUS SCIENTISTS,Mark,ACK,0\n",
      "9788184825978,KOMarkRK,Mark,ACK,0\n",
      "9788184826098,THE MUGHAL COURT,REEMark,ACK,0\n",
      "9788184821536,MORE STORIES FROM THE JATAKAS,Mark,ACK,0\n",
      "9788184821543,MORE TALES OF BIRBAL,-,ACK,0\n",
      "9788184821550,TALES FROM THE JATAKAS,-,ACK,0\n",
      "9788184821567,RAMarkS OF MEWAR,-,ACK,0\n",
      "9788184821574,THE SONS OF THE PANDAVAS,-,ACK,0\n",
      "\n"
     ]
    }
   ],
   "metadata": {}
  },
  {
   "cell_type": "code",
   "execution_count": 7,
   "source": [
    "# 1_B\r\n",
    "lst = [1, 2, 3, 4, 5, 6, 7, 8, 9]\r\n",
    "file_handler.write_list_to_file('output.txt', 'lst', 'hello', 'hej', 'goddav!')"
   ],
   "outputs": [],
   "metadata": {}
  },
  {
   "cell_type": "code",
   "execution_count": 8,
   "source": [
    "# 1_C\r\n",
    "content = file_handler.read_csv('Sample100.csv')\r\n",
    "for item in content:\r\n",
    "    print(item.strip())"
   ],
   "outputs": [
    {
     "output_type": "stream",
     "name": "stdout",
     "text": [
      "Serial Number,Company Name,Employee Markme,Description,Leave\n",
      "9788189999599,TALES OF SHIVA,Mark,mark,0\n",
      "9780099578079,1Q84 THE COMPLETE TRILOGY,HARUKI MURAKAMI,Mark,0\n",
      "9780198082897,MY KUMAN,Mark,Mark,0\n",
      "9780007880331,THE GOD OF SMAAL THINGS,ARUNDHATI ROY,4TH HARPER COLLINS,2\n",
      "9780545060455,THE BLACK CIRCLE,Mark,4TH HARPER COLLINS,0\n",
      "9788126525072,THE THREE LAWS OF PERFORMANCE,Mark,4TH HARPER COLLINS,0\n",
      "9789381626610,CHAMarkKYA MANTRA,Mark,4TH HARPER COLLINS,0\n",
      "9788184513523,59.FLAGS,Mark,4TH HARPER COLLINS,0\n",
      "9780743234801,THE POWER OF POSITIVE THINKING FROM,Mark,A & A PUBLISHER,0\n",
      "9789381529621,YOU CAN IF YO THINK YO CAN,PEALE,A & A PUBLISHER,0\n",
      "9788183223966,DONGRI SE DUBAI TAK (MPH),Mark,A & A PUBLISHER,0\n",
      "9788187776005,MarkLANDA ADYTAN KOSH,Mark,AADISH BOOK DEPOT,0\n",
      "9788187776013,MarkLANDA VISHAL SHABD SAGAR,-,AADISH BOOK DEPOT,1\n",
      "8187776021,MarkLANDA CONCISE DICT(ENG TO HINDI),Mark,AADISH BOOK DEPOT,0\n",
      "9789384716165,LIEUTEMarkMarkT GENERAL BHAGAT: A SAGA OF BRAVERY AND LEADERSHIP,Mark,AAM COMICS,2\n",
      "9789384716233,LN. MarkIK SUNDER SINGH,N.A,AAN COMICS,0\n",
      "9789384850319,I AM KRISHMark,DEEP TRIVEDI,AATMAN INNOVATIONS PVT LTD,1\n",
      "9789384850357,DON'T TEACH ME TOLERANCE INDIA,DEEP TRIVEDI,AATMAN INNOVATIONS PVT LTD,0\n",
      "9789384850364,MUJHE SAHISHNUTA MAT SIKHAO BHARAT,DEEP TRIVEDI,AATMAN INNOVATIONS PVT LTD,0\n",
      "9789384850746,SECRETS OF DESTINY,DEEP TRIVEDI,AATMAN INNOVATIONS PVT LTD,1\n",
      "9789384850753,BHAGYA KE RAHASYA (HINDI) SECRET OF DESTINY,DEEP TRIVEDI,AATMAN INNOVATIONS PVT LTD,1\n",
      "9788192669038,MEIN MANN HOON,DEEP TRIVEDI,AATMAN INNOVATIONS PVT LTD,0\n",
      "9789384850098,I AM THE MIND,DEEP TRIVEDI,AATMARAM & SONS,0\n",
      "9780349121420,THE ART OF CHOOSING,SHEEMark IYENGAR,ABACUS,0\n",
      "9780349123462,IN SPITE OF THE GODS,EDWARD LUCE,ABACUS,1\n",
      "9788188440061,QUESTIONS & ANWERS ABOUT THE GREAT BIBLE,Mark,ABC PUBLISHERS DISTRIBUTORS,4\n",
      "9789382088189,NIBANDH EVAM KAHANI LEKHAN { HINDI },Mark,ABHI BOOKS,1\n",
      "9789332703759,INDIAN ECONOMY SINCE INDEPENDENCE 27TH /E,UMA KAPILA,ACADEMIC FOUNDATION,1\n",
      "9788171888016,ECONOMIC DEVELOPMENT AND POLICY IN INDIA,UMA KAPILA,ACADEMIC FOUNDATION,1\n",
      "9789332704343,INDIAN ECONOMY PERFORMANCE 18TH/E  2017-2018,UMA KAPILA,ACADEMIC FOUNDATION,2\n",
      "9789332703735,INDIAN ECONOMIC DEVELOPMENTSINCE 1947 (NO RETURMarkBLE),UMA KAPILA,ACADEMIC FOUNDATION,1\n",
      "9789383454143,PRELIMS SPECIAL READING COMPREHENSION PAPER II CSAT,MarkGENDRA PRATAP,ACCESS PUBLISHING INDIA PVT.LTD,0\n",
      "9789383454204,THE CONSTITUTION OF INDIA 2ND / E,AR KHAN,ACCESS PUBLISHING INDIA PVT.LTD,10\n",
      "9789386361011,\"INDIAN HERITAGE ,ART & CULTURE\",MADHUKAR,ACCESS PUBLISHING INDIA PVT.LTD,10\n",
      "9789383454303,BHARAT KA SAMVIDHAN,AR KHAN,ACCESS PUBLISHING INDIA PVT.LTD,4\n",
      "9789383454471,\"ETHICS, INTEGRITY & APTITUDE ( 3RD/E)\",\"P N ROY ,G SUBBA RAO\",ACCESS PUBLISHING INDIA PVT.LTD,10\n",
      "9789383454563,GENERAL STUDIES PAPER -- I (2016),Mark,ACCESS PUBLISHING INDIA PVT.LTD,0\n",
      "9789383454570,GENERAL STUDIES PAPER - II (2016),Mark,ACCESS PUBLISHING INDIA PVT.LTD,0\n",
      "9789383454693,INDIAN AND WORLD GEOGRAPHY 2E,D R KHULLAR,ACCESS PUBLISHING INDIA PVT.LTD,10\n",
      "9789383454709,VASTUNISTHA PRASHN SANGRAHA: BHARAT KA ITIHAS,MEEMarkKSHI KANT,ACCESS PUBLISHING INDIA PVT.LTD,0\n",
      "9789383454723,\"PHYSICAL, HUMAN AND ECONOMIC GEOGRAPHY\",D R KHULLAR,ACCESS PUBLISHING INDIA PVT.LTD,4\n",
      "9789383454730,WORLD GEOGRAPHY,DR KHULLAR,ACCESS PUBLISHING INDIA PVT.LTD,5\n",
      "9789383454822,INDIA: MAP ENTRIES IN GEOGRAPHY,MAJID HUSAIN,ACCESS PUBLISHING INDIA PVT.LTD,5\n",
      "9789383454853,GOOD GOVERMarkNCE IN INDIA 2/ED.,G SUBBA RAO,ACCESS PUBLISHING INDIA PVT.LTD,1\n",
      "9789383454884,KAMYABI KE SUTRA-CIVIL SEWA PARIKSHA AAP KI MUTTHI MEIN,ASHOK KUMAR,ACCESS PUBLISHING INDIA PVT.LTD,0\n",
      "9789383454891,GENERAL SCIENCE PRELIRY EXAM,Mark,ACCESS PUBLISHING INDIA PVT.LTD,0\n",
      "9781742860190,SUCCESS AND DYSLEXIA,SUCCESS AND DYSLEXIA,ACER PRESS,0\n",
      "9781742860114,AN EXTRAORDIMarkRY SCHOOL,SARA JAMES,ACER PRESS,0\n",
      "9781742861463,POWERFUL PRACTICES FOR READING IMPROVEMENT,GLASSWELL,ACER PRESS,0\n",
      "9781742862859,EARLY CHILDHOOD PLAY MATTERS,SHOMark BASS,ACER PRESS,0\n",
      "9781742863641,LEADING LEARNING AND TEACHING,STEPHEN DINHAM,ACER PRESS,0\n",
      "9781742863658,READING AND LEARNING DIFFICULTIES,PETER WESTWOOD,ACER PRESS,0\n",
      "9781742863665,NUMERACY AND LEARNING DIFFICULTIES,PETER WOODLAND],ACER PRESS,0\n",
      "9781742863771,TEACHING AND LEARNING DIFFICULTIES,PETER WOODLAND,ACER PRESS,0\n",
      "9781742861678,USING DATA TO IMPROVE LEARNING,ANTHONY SHADDOCK,ACER PRESS,0\n",
      "9781742862484,PATHWAYS TO SCHOOL SYSTEM IMPROVEMENT,MICHAEL GAFFNEY,ACER PRESS,0\n",
      "9781742860176,FOR THOSE WHO TEACH,PHIL RIDDEN,ACER PRESS,0\n",
      "9781742860213,KEYS TO SCHOOL LEADERSHIP,PHIL RIDDEN & JOHN DE NOBILE,ACER PRESS,0\n",
      "9781742860220,DIVERSE LITERACIES IN EARLY CHILDHOOD,LEONIE ARTHUR,ACER PRESS,0\n",
      "9781742860237,CREATIVE ARTS IN THE LIVESOF YOUNG CHILDREN,ROBYN EWING,ACER PRESS,0\n",
      "9781742860336,SOCIAL AND EMOTIOMarkL DEVELOPMENT,ROS LEYDEN AND ERIN SHALE,ACER PRESS,0\n",
      "9781742860343,DISCUSSIONS IN SCIENCE,TIM SPROD,ACER PRESS,0\n",
      "9781742860404,YOUNG CHILDREN LEARNING MATHEMATICS,ROBERT HUNTING,ACER PRESS,0\n",
      "9781742860626,COACHING CHILDREN,KELLY SUMICH,ACER PRESS,1\n",
      "9781742860923,TEACHING PHYSICAL EDUCATIOMarkL IN PRIMARY SCHOOL,JANET L CURRIE,ACER PRESS,0\n",
      "9781742861111,ASSESSMENT AND REPORTING,PHIL RIDDEN AND SANDY,ACER PRESS,0\n",
      "9781742861302,COLLABORATION IN LEARNING,MAL LEE AND LORRAE WARD,ACER PRESS,0\n",
      "9780864315250,RE-IMAGINING EDUCATIMarkL LEADERSHIP,BRIAN J.CALDWELL,ACER PRESS,0\n",
      "9780864317025,TOWARDS A MOVING SCHOOL,FLEMING & KLEINHENZ,ACER PRESS,0\n",
      "9780864317230,DESINGNING A THINKING A CURRICULAM,SUSAN WILKS,ACER PRESS,0\n",
      "9780864318961,LEADING A DIGITAL SCHOOL,MAL LEE AND MICHEAL GAFFNEY,ACER PRESS,0\n",
      "9780864319043,NUMERACY,WESTWOOD,ACER PRESS,0\n",
      "9780864319203,TEACHING ORAL LANGUAGE,JOHN MUNRO,ACER PRESS,0\n",
      "9780864319449,SPELLING,WESTWOOD,ACER PRESS,0\n",
      "9788189999803,STORIES OF SHIVA,Mark,ACK,0\n",
      "9788189999988,JAMSET  JI TATA: THE MAN WHO SAW TOMORROW,,ACK,0\n",
      "9788184820355,HEROES FROM THE MAHABHARTA { 5-IN-1 },Mark,ACK,0\n",
      "9788184820553,SURYA,,ACK,0\n",
      "9788184820645,TALES OF THE MOTHER GODDESS,-,ACK,0\n",
      "9788184820652,ADVENTURES OF KRISHMark,Mark,ACK,0\n",
      "9788184822113,MAHATMA GANDHI,Mark,ACK,1\n",
      "9788184822120,TALES FROM THE PANCHATANTRA 3-IN-1,-,ACK,0\n",
      "9788184821482,YET MORE TALES FROM THE JATAKAS { 3-IN-1 },AMarkNT PAI,ACK,0\n",
      "9788184825763,LEGENDARY RULERS OF INDIA,-,ACK,0\n",
      "9788184825862,GREAT INDIAN CLASSIC,Mark,ACK,0\n",
      "9788184823219,TULSIDAS ' RAMAYAMark,Mark,ACK,0\n",
      "9788184820782,TALES OF HANUMAN,-,ACK,0\n",
      "9788184820089,VALMIKI'S RAMAYAMark,A C K,ACK,1\n",
      "9788184825213,THE BEST OF INIDAN WIT AND WISDOM,Mark,ACK,0\n",
      "9788184820997,MORE TALES FROM THE PANCHTANTRA,AMarkNT PAL,ACK,0\n",
      "9788184824018,THE GREAT MUGHALS {5-IN-1},AMarkNT.,ACK,0\n",
      "9788184824049,FAMOUS SCIENTISTS,Mark,ACK,0\n",
      "9788184825978,KOMarkRK,Mark,ACK,0\n",
      "9788184826098,THE MUGHAL COURT,REEMark,ACK,0\n",
      "9788184821536,MORE STORIES FROM THE JATAKAS,Mark,ACK,0\n",
      "9788184821543,MORE TALES OF BIRBAL,-,ACK,0\n",
      "9788184821550,TALES FROM THE JATAKAS,-,ACK,0\n",
      "9788184821567,RAMarkS OF MEWAR,-,ACK,0\n",
      "9788184821574,THE SONS OF THE PANDAVAS,-,ACK,0\n"
     ]
    }
   ],
   "metadata": {}
  },
  {
   "cell_type": "code",
   "execution_count": 11,
   "source": [
    "# 2_A\r\n",
    "if __name__ == '__main__':\r\n",
    "    parser = argparse.ArgumentParser(description='CSV file writer')\r\n",
    "    parser.add_argument('path', help='Add the path to a file to be read')\r\n",
    "    parser.add_argument('-f', '--file', help=\"Name of file to save as\")\r\n",
    "\r\n",
    "    args = parser.parse_args()\r\n",
    "    if args.file == None:\r\n",
    "        print(\"Input file:\", args.path)\r\n",
    "        file_handler.print_file_content(args.path)\r\n",
    "    else:\r\n",
    "        file_handler.write_list_to_file(\r\n",
    "            args.file, file_handler.read_csv(args.path))\r\n",
    "        print(\"Input file:\", args.path)\r\n",
    "        print(\"Output file:\", args.file)"
   ],
   "outputs": [
    {
     "output_type": "stream",
     "name": "stderr",
     "text": [
      "usage: ipykernel_launcher.py [-h] [-f FILE] path\n",
      "ipykernel_launcher.py: error: the following arguments are required: path\n"
     ]
    },
    {
     "output_type": "error",
     "ename": "SystemExit",
     "evalue": "2",
     "traceback": [
      "An exception has occurred, use %tb to see the full traceback.\n",
      "\u001b[1;31mSystemExit\u001b[0m\u001b[1;31m:\u001b[0m 2\n"
     ]
    },
    {
     "output_type": "stream",
     "name": "stderr",
     "text": [
      "C:\\Users\\Mathias\\AppData\\Local\\Programs\\Python\\Python39\\lib\\site-packages\\IPython\\core\\interactiveshell.py:3449: UserWarning: To exit: use 'exit', 'quit', or Ctrl-D.\n",
      "  warn(\"To exit: use 'exit', 'quit', or Ctrl-D.\", stacklevel=1)\n"
     ]
    }
   ],
   "metadata": {}
  },
  {
   "cell_type": "code",
   "execution_count": 13,
   "source": [
    "path = \"..\\\\Python_Hand-in\"\r\n",
    "utils.get_file_names(path, 'folder_filenames.txt')\r\n",
    "utils.get_all_file_names(path)"
   ],
   "outputs": [
    {
     "output_type": "stream",
     "name": "stdout",
     "text": [
      "File paths writen to: output.txt\n"
     ]
    }
   ],
   "metadata": {}
  },
  {
   "cell_type": "code",
   "execution_count": 14,
   "source": [
    "file_names = \"output.txt\"\r\n",
    "utils.print_line_one(file_names)"
   ],
   "outputs": [
    {
     "output_type": "stream",
     "name": "stdout",
     "text": [
      "File name: ..\\Python_Hand-in\\bones.txt\n",
      "First line: ï»¿The Project Gutenberg EBook of Bones in London, by Edgar Wallace\n",
      "\n",
      "File name: ..\\Python_Hand-in\\folder_filenames.txt\n",
      "First line: .git\n",
      "\n",
      "File name: ..\\Python_Hand-in\\output.txt\n",
      "First line: ..\\Python_Hand-in\\bones.txt\n",
      "\n",
      "File name: ..\\Python_Hand-in\\output_test.csv\n",
      "First line: ['Serial Number,Company Name,Employee Markme,Description,Leave']\n",
      "\n",
      "File name: ..\\Python_Hand-in\\README.md\n",
      "First line: [![Binder](https://mybinder.org/badge_logo.svg)](https://mybinder.org/v2/gh/datsoftlyngby/python_handin_template/master)\n",
      "\n",
      "File name: ..\\Python_Hand-in\\requirements.txt\n",
      "First line: Click==7.0\n",
      "\n",
      "File name: ..\\Python_Hand-in\\Sample100.csv\n",
      "First line: Serial Number,Company Name,Employee Markme,Description,Leave\n",
      "\n",
      "File name: ..\\Python_Hand-in\\test.csv\n",
      "First line: ['Serial Number,Company Name,Employee Markme,Description,Leave']\n",
      "\n",
      "File name: ..\\Python_Hand-in\\uc\n",
      "First line: Serial Number,Company Name,Employee Markme,Description,Leave\n",
      "\n",
      "File name: ..\\Python_Hand-in\\Week_1.ipynb\n",
      "First line: {\n",
      "\n",
      "File name: ..\\Python_Hand-in\\Week_2.ipynb\n",
      "First line: {\n",
      "\n",
      "File name: ..\\Python_Hand-in\\Week_2.py\n",
      "First line: from modules import file_handler\n",
      "\n",
      "File name: ..\\Python_Hand-in\\.ipynb_checkpoints\\Week_1-checkpoint.ipynb\n",
      "First line: {\n",
      "\n",
      "File name: ..\\Python_Hand-in\\.ipynb_checkpoints\\Week_2-checkpoint.ipynb\n",
      "First line: {\n",
      "\n",
      "File name: ..\\Python_Hand-in\\.ipynb_checkpoints\\Week_3-checkpoint.ipynb\n",
      "First line: {\n",
      "\n",
      "File name: ..\\Python_Hand-in\\modules\\file_handler.py\n",
      "First line: def print_file_content(file):\n",
      "\n",
      "File name: ..\\Python_Hand-in\\modules\\utils.py\n",
      "First line: import os\n",
      "\n",
      "File name: ..\\Python_Hand-in\\modules\\webget.py\n",
      "First line: import os\n",
      "\n",
      "File name: ..\\Python_Hand-in\\modules\\__init__.py\n",
      "First line: # this is an empty file to make python understand that this is a module\n"
     ]
    },
    {
     "output_type": "error",
     "ename": "UnicodeDecodeError",
     "evalue": "'charmap' codec can't decode byte 0x8f in position 112: character maps to <undefined>",
     "traceback": [
      "\u001b[1;31m---------------------------------------------------------------------------\u001b[0m",
      "\u001b[1;31mUnicodeDecodeError\u001b[0m                        Traceback (most recent call last)",
      "\u001b[1;32m~\\AppData\\Local\\Temp/ipykernel_10668/1562774057.py\u001b[0m in \u001b[0;36m<module>\u001b[1;34m\u001b[0m\n\u001b[0;32m      1\u001b[0m \u001b[0mfile_names\u001b[0m \u001b[1;33m=\u001b[0m \u001b[1;34m\"output.txt\"\u001b[0m\u001b[1;33m\u001b[0m\u001b[1;33m\u001b[0m\u001b[0m\n\u001b[1;32m----> 2\u001b[1;33m \u001b[0mutils\u001b[0m\u001b[1;33m.\u001b[0m\u001b[0mprint_line_one\u001b[0m\u001b[1;33m(\u001b[0m\u001b[0mfile_names\u001b[0m\u001b[1;33m)\u001b[0m\u001b[1;33m\u001b[0m\u001b[1;33m\u001b[0m\u001b[0m\n\u001b[0m",
      "\u001b[1;32mc:\\Users\\Mathias\\Dropbox\\CPHBusiness\\4.Sem\\python\\Python_Hand-in\\modules\\utils.py\u001b[0m in \u001b[0;36mprint_line_one\u001b[1;34m(file_names)\u001b[0m\n\u001b[0;32m     28\u001b[0m             \u001b[1;32mwith\u001b[0m \u001b[0mopen\u001b[0m\u001b[1;33m(\u001b[0m\u001b[0mfile_name\u001b[0m\u001b[1;33m.\u001b[0m\u001b[0mstrip\u001b[0m\u001b[1;33m(\u001b[0m\u001b[1;33m)\u001b[0m\u001b[1;33m)\u001b[0m \u001b[1;32mas\u001b[0m \u001b[0mfile\u001b[0m\u001b[1;33m:\u001b[0m\u001b[1;33m\u001b[0m\u001b[1;33m\u001b[0m\u001b[0m\n\u001b[0;32m     29\u001b[0m                 print(\"File name: \" + file_name +\n\u001b[1;32m---> 30\u001b[1;33m                       \"First line: \" + file.readline())\n\u001b[0m\u001b[0;32m     31\u001b[0m             \u001b[1;31m# for file in file_names:\u001b[0m\u001b[1;33m\u001b[0m\u001b[1;33m\u001b[0m\u001b[1;33m\u001b[0m\u001b[0m\n\u001b[0;32m     32\u001b[0m             \u001b[1;31m#     with open(file) as file_content:\u001b[0m\u001b[1;33m\u001b[0m\u001b[1;33m\u001b[0m\u001b[1;33m\u001b[0m\u001b[0m\n",
      "\u001b[1;32m~\\AppData\\Local\\Programs\\Python\\Python39\\lib\\encodings\\cp1252.py\u001b[0m in \u001b[0;36mdecode\u001b[1;34m(self, input, final)\u001b[0m\n\u001b[0;32m     21\u001b[0m \u001b[1;32mclass\u001b[0m \u001b[0mIncrementalDecoder\u001b[0m\u001b[1;33m(\u001b[0m\u001b[0mcodecs\u001b[0m\u001b[1;33m.\u001b[0m\u001b[0mIncrementalDecoder\u001b[0m\u001b[1;33m)\u001b[0m\u001b[1;33m:\u001b[0m\u001b[1;33m\u001b[0m\u001b[1;33m\u001b[0m\u001b[0m\n\u001b[0;32m     22\u001b[0m     \u001b[1;32mdef\u001b[0m \u001b[0mdecode\u001b[0m\u001b[1;33m(\u001b[0m\u001b[0mself\u001b[0m\u001b[1;33m,\u001b[0m \u001b[0minput\u001b[0m\u001b[1;33m,\u001b[0m \u001b[0mfinal\u001b[0m\u001b[1;33m=\u001b[0m\u001b[1;32mFalse\u001b[0m\u001b[1;33m)\u001b[0m\u001b[1;33m:\u001b[0m\u001b[1;33m\u001b[0m\u001b[1;33m\u001b[0m\u001b[0m\n\u001b[1;32m---> 23\u001b[1;33m         \u001b[1;32mreturn\u001b[0m \u001b[0mcodecs\u001b[0m\u001b[1;33m.\u001b[0m\u001b[0mcharmap_decode\u001b[0m\u001b[1;33m(\u001b[0m\u001b[0minput\u001b[0m\u001b[1;33m,\u001b[0m\u001b[0mself\u001b[0m\u001b[1;33m.\u001b[0m\u001b[0merrors\u001b[0m\u001b[1;33m,\u001b[0m\u001b[0mdecoding_table\u001b[0m\u001b[1;33m)\u001b[0m\u001b[1;33m[\u001b[0m\u001b[1;36m0\u001b[0m\u001b[1;33m]\u001b[0m\u001b[1;33m\u001b[0m\u001b[1;33m\u001b[0m\u001b[0m\n\u001b[0m\u001b[0;32m     24\u001b[0m \u001b[1;33m\u001b[0m\u001b[0m\n\u001b[0;32m     25\u001b[0m \u001b[1;32mclass\u001b[0m \u001b[0mStreamWriter\u001b[0m\u001b[1;33m(\u001b[0m\u001b[0mCodec\u001b[0m\u001b[1;33m,\u001b[0m\u001b[0mcodecs\u001b[0m\u001b[1;33m.\u001b[0m\u001b[0mStreamWriter\u001b[0m\u001b[1;33m)\u001b[0m\u001b[1;33m:\u001b[0m\u001b[1;33m\u001b[0m\u001b[1;33m\u001b[0m\u001b[0m\n",
      "\u001b[1;31mUnicodeDecodeError\u001b[0m: 'charmap' codec can't decode byte 0x8f in position 112: character maps to <undefined>"
     ]
    }
   ],
   "metadata": {}
  }
 ],
 "metadata": {
  "kernelspec": {
   "name": "python3",
   "display_name": "Python 3.9.2 64-bit"
  },
  "language_info": {
   "codemirror_mode": {
    "name": "ipython",
    "version": 3
   },
   "file_extension": ".py",
   "mimetype": "text/x-python",
   "name": "python",
   "nbconvert_exporter": "python",
   "pygments_lexer": "ipython3",
   "version": "3.9.2"
  },
  "interpreter": {
   "hash": "2f17e2aaaa879f337e971845d31214e97f8aa09b811a0111c0670a7e23e70f91"
  }
 },
 "nbformat": 4,
 "nbformat_minor": 4
}