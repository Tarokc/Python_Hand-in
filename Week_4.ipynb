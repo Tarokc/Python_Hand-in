{
 "cells": [
  {
   "cell_type": "markdown",
   "metadata": {},
   "source": [
    "# Week 4 hand-in"
   ]
  },
  {
   "cell_type": "markdown",
   "metadata": {},
   "source": [
    "## 01 Assignment\n",
    "https://github.com/Hartmannsolution/docker_notebooks/blob/master/notebooks/04-Exercise.ipynb"
   ]
  },
  {
   "cell_type": "markdown",
   "metadata": {},
   "source": [
    "## 02 Status\n",
    "Exercise 1 has been completed with satisfactory results"
   ]
  },
  {
   "cell_type": "markdown",
   "metadata": {},
   "source": [
    "## Solution part 1"
   ]
  },
  {
   "cell_type": "code",
   "execution_count": 1,
   "metadata": {},
   "outputs": [],
   "source": [
    "import numpy as np"
   ]
  },
  {
   "cell_type": "code",
   "execution_count": 2,
   "metadata": {},
   "outputs": [],
   "source": [
    "#1.1 Open the file './data/befkbhalderstatkode.csv'\n",
    "with open('./data/befkbhalderstatkode.csv') as file_object:\n",
    "    \n",
    "#1.2 Turn the csv file into a numpy ndarray with np.genfromtxt(filename, delimiter=',', dtype=np.uint, skip_header=1)\n",
    "    data = np.genfromtxt(file_object, delimiter=',', dtype=np.uint, skip_header=1)"
   ]
  },
  {
   "cell_type": "code",
   "execution_count": 3,
   "metadata": {},
   "outputs": [],
   "source": [
    "#1.3 Using this data:\n",
    "\n",
    "neighb = {1: 'Indre By', 2: 'Østerbro', 3: 'Nørrebro', 4: 'Vesterbro/Kgs. Enghave', \n",
    "       5: 'Valby', 6: 'Vanløse', 7: 'Brønshøj-Husum', 8: 'Bispebjerg', 9: 'Amager Øst', \n",
    "       10: 'Amager Vest', 99: 'Udenfor'}\n",
    "\n",
    "#Find out how many people lived in each of the 11 areas in 2015"
   ]
  },
  {
   "cell_type": "code",
   "execution_count": 4,
   "metadata": {},
   "outputs": [],
   "source": [
    "def get_city_population_by_year(year=2015):\n",
    "    dd = data\n",
    "    mask = (dd[:,0] == year)\n",
    "    dd = data[mask]  \n",
    "\n",
    "    \"\"\"Sums up number of citizents for each city. Returns dictionary with city:no_citizens\"\"\"\n",
    "    neighbourhoods = np.unique(dd[:,1])\n",
    "    no_citizens_by_city = {}\n",
    "\n",
    "    for n in neighbourhoods:\n",
    "        n_mask = (dd[:,1] == n)\n",
    "        no_citizens_by_city[n] = np.sum(dd[n_mask][:,4])\n",
    "\n",
    "    return no_citizens_by_city"
   ]
  },
  {
   "cell_type": "code",
   "execution_count": 5,
   "metadata": {},
   "outputs": [
    {
     "data": {
      "text/plain": [
       "{1: 51937,\n",
       " 2: 75113,\n",
       " 3: 78802,\n",
       " 4: 61623,\n",
       " 5: 51727,\n",
       " 6: 39537,\n",
       " 7: 43908,\n",
       " 8: 53604,\n",
       " 9: 55205,\n",
       " 10: 64967,\n",
       " 99: 3872}"
      ]
     },
     "execution_count": 5,
     "metadata": {},
     "output_type": "execute_result"
    }
   ],
   "source": [
    "get_city_population_by_year(2015)\n",
    "#Reference 51937"
   ]
  },
  {
   "cell_type": "code",
   "execution_count": 6,
   "metadata": {},
   "outputs": [
    {
     "data": {
      "text/plain": [
       "([0, 1, 2, 3, 4, 5, 6, 7, 8, 9, 10],\n",
       " <a list of 11 Text major ticklabel objects>)"
      ]
     },
     "execution_count": 6,
     "metadata": {},
     "output_type": "execute_result"
    },
    {
     "data": {
      "image/png": "[encoded data removed]",
      "text/plain": [
       "<Figure size 432x288 with 1 Axes>"
      ]
     },
     "metadata": {
      "needs_background": "light"
     },
     "output_type": "display_data"
    }
   ],
   "source": [
    "#1.4 Make a bar plot to show the size of each city area from the smallest to the largest\n",
    "\n",
    "import matplotlib.pyplot as plt\n",
    "\n",
    "city_pop = get_city_population_by_year(2015)\n",
    "\n",
    "sorted_pop = {}\n",
    "for k in sorted(city_pop, key=city_pop.get):\n",
    "    sorted_pop[neighb[k]] = city_pop[k]\n",
    "#print(sorted_pop)\n",
    "\n",
    "plt.bar(sorted_pop.keys(), sorted_pop.values())\n",
    "plt.xticks(rotation=90)"
   ]
  },
  {
   "cell_type": "code",
   "execution_count": 7,
   "metadata": {},
   "outputs": [],
   "source": [
    "country_codes = {0: 'Uoplyst (1)', 5001: 'Uoplyst (2)', 5100: 'Danmark', 5101: 'Grønland', \n",
    "                 5102: 'Udlandet uoplyst', 5103: 'Statsløs', 5104: 'Finland', \n",
    "                 5105: 'Island, ligeret dansk', 5106: 'Island', 5107: 'Liechtenstein', \n",
    "                 5108: 'Luxembourg', 5109: 'Monaco', 5110: 'Norge', 5114: 'Europa uoplyst', \n",
    "                 5115: 'Kongelig', 5120: 'Sverige', 5122: 'Albanien', 5124: 'Andorra', \n",
    "                 5126: 'Belgien', 5128: 'Bulgarien', 5129: 'Tjekkoslovakiet', \n",
    "                 5130: 'Frankrig', 5134: 'Grækenland', 5140: 'Nederlandene', \n",
    "                 5142: 'Irland', 5150: 'Italien', 5151: 'Serbien og Montenegro', \n",
    "                 5152: 'Jugoslavien', 5153: 'Malta', 5154: 'Polen', 5156: 'Portugal', \n",
    "                 5158: 'Rumænien', 5159: 'San Marino', 5160: 'Schweiz', \n",
    "                 5162: 'Sovjetunionen', 5164: 'Spanien', 5170: 'Storbritannien', \n",
    "                 5172: 'Tyrkiet', 5174: 'Ungarn', 5176: 'Vatikanstaten', 5180: 'Tyskland', \n",
    "                 5182: 'Østrig', 5199: 'Europa uoplyst', 5202: 'Algeriet', 5204: 'Angola', \n",
    "                 5207: 'Botswana', 5213: 'Burundi', 5214: 'Etiopien', 5215: 'Comorerne', \n",
    "                 5216: 'Eritrea', 5222: 'Gambia', 5228: 'Ghana', 5230: 'Ækvatorialguinea', \n",
    "                 5231: 'Guinea-Bissau', 5232: 'Guinea', 5233: 'Kap Verde', 5234: 'Kenya', \n",
    "                 5235: 'Lesotho', 5236: 'Liberia', 5238: 'Libyen', 5240: 'Mozambique', \n",
    "                 5242: 'Madagaskar', 5243: 'Mali', 5244: 'Marokko', 5245: 'Mauritius', \n",
    "                 5246: 'Nigeria', 5247: 'Namibia', 5248: 'Marshalløerne', \n",
    "                 5255: 'Sierra Leone', 5258: 'Sudan', 5259: 'Swaziland', 5260: 'Sydsudan', \n",
    "                 5262: 'Sydafrika', 5266: 'Tanzania', 5268: 'Tunesien', 5269: 'Uganda', \n",
    "                 5272: 'Egypten', 5273: 'Tuvalu', 5274: 'Kiribati', 5275: 'Vanuatu', \n",
    "                 5276: 'Centralafrikanske Republik', 5277: 'Cameroun', \n",
    "                 5278: 'Congo, Demokratiske Republik', 5279: 'Congo, Republikken', \n",
    "                 5281: 'Benin', 5282: 'Elfenbenskysten', 5283: 'Gabon', 5284: 'Mauretanien', \n",
    "                 5285: 'Niger', 5287: 'Rwanda', 5288: 'Senegal', 5289: 'Somalia', \n",
    "                 5292: 'Tchad', 5293: 'Togo', 5294: 'Burkina Faso', 5295: 'Zimbabwe', \n",
    "                 5296: 'Zambia', 5297: 'Malawi', 5298: 'Seychellerne', \n",
    "                 5299: 'Afrika uoplyst', 5302: 'Argentina', 5303: 'Bahamas', \n",
    "                 5304: 'Bolivia', 5305: 'Barbados', 5306: 'Brasilien', 5308: 'Guyana', \n",
    "                 5309: 'Antigua og Barbuda', 5310: 'Nauru', \n",
    "                 5311: 'Skt. Vincent og Grenadinerne', 5314: 'Canada', 5316: 'Chile', \n",
    "                 5318: 'Colombia', 5319: 'Syd- og Mellemamerika uoplyst', \n",
    "                 5322: 'Costa Rica', 5324: 'Cuba', 5326: 'Dominikanske Republik', \n",
    "                 5328: 'Ecuador', 5338: 'Guatemala', 5339: 'Grenada', 5342: 'Haiti', \n",
    "                 5344: 'Surinam', 5345: 'Dominica', 5347: 'Skt. Lucia', 5348: 'Honduras', \n",
    "                 5352: 'Jamaica', 5354: 'Mexico', 5356: 'Nicaragua', 5358: 'Panama', \n",
    "                 5364: 'Paraguay', 5366: 'Peru', 5372: 'El Salvador', \n",
    "                 5374: 'Trinidad og Tobago', 5376: 'Uruguay', 5390: 'USA', \n",
    "                 5392: 'Venezuela', 5395: 'Vestindiske Øer', 5397: 'Nordamerika uoplyst', \n",
    "                 5398: 'Syd- og Mellemamerika uoplyst', 5402: 'Yemen', \n",
    "                 5403: 'Forenede Arabiske Emirater', 5404: 'Afghanistan', 5406: 'Bahrain', \n",
    "                 5408: 'Bhutan', 5410: 'Bangladesh', 5412: 'Brunei', 5414: 'Myanmar', \n",
    "                 5416: 'Cambodja', 5418: 'Sri Lanka', 5422: 'Cypern', 5424: 'Taiwan', \n",
    "                 5432: 'Indien', 5434: 'Indonesien', 5435: 'Østtimor', 5436: 'Irak', \n",
    "                 5438: 'Iran', 5442: 'Israel', 5444: 'Japan', 5446: 'Jordan', 5448: 'Kina', \n",
    "                 5452: 'Kuwait', 5454: 'Laos', 5456: 'Libanon', 5457: 'Maldiverne', \n",
    "                 5458: 'Malaysia', 5459: 'Mongoliet', 5462: 'Oman', 5464: 'Nepal', \n",
    "                 5466: 'Nordkorea', 5468: 'Vietnam (1)', 5471: 'Asien uoplyst', \n",
    "                 5472: 'Pakistan', 5474: 'Filippinerne', 5478: 'Saudi-Arabien', \n",
    "                 5482: 'Singapore', 5484: 'Sydkorea', 5486: 'Syrien', \n",
    "                 5487: 'Mellemøsten uoplyst', 5488: 'Vietnam (2)', 5492: 'Thailand', \n",
    "                 5496: 'Qatar', 5499: 'Asien uoplyst', 5502: 'Australien', 5505: 'Tonga', \n",
    "                 5508: 'Fiji', 5514: 'New Zealand', 5522: 'Samoa', 5525: 'Djibouti', \n",
    "                 5526: 'Belize', 5534: 'Papua Ny Guinea', 5599: 'Øer i Stillehavet', \n",
    "                 5607: 'Estland', 5609: 'Letland', 5611: 'Litauen', \n",
    "                 5621: 'Sao Tome og Principe', 5623: 'Salomonøerne', \n",
    "                 5625: 'Skt. Kitts og Nevis', 5700: 'Rusland', 5704: 'Ukraine', \n",
    "                 5706: 'Hviderusland', 5708: 'Armenien', 5710: 'Aserbajdsjan', \n",
    "                 5712: 'Moldova', 5714: 'Usbekistan', 5716: 'Kasakhstan', \n",
    "                 5718: 'Turkmenistan', 5720: 'Kirgisistan', 5722: 'Tadsjikistan', \n",
    "                 5724: 'Georgien', 5750: 'Kroatien', 5752: 'Slovenien', \n",
    "                 5754: 'Bosnien-Hercegovina', 5756: 'Makedonien', 5757: 'Serbien', \n",
    "                 5758: 'Jugoslavien, Forbundsrepublikken', 5759: 'Montenegro', \n",
    "                 5761: 'Kosovo', 5776: 'Tjekkiet', 5778: 'Slovakiet', 5779: 'Cookøerne', \n",
    "                 5800: 'Land ukendt (2)', 5901: 'Færøerne uoplyst', 5902: 'Færøerne', \n",
    "                 5999: 'Land ukendt (1)'}"
   ]
  },
  {
   "cell_type": "code",
   "execution_count": 8,
   "metadata": {},
   "outputs": [
    {
     "name": "stdout",
     "output_type": "stream",
     "text": [
      "The history saving thread hit an unexpected error (OperationalError('disk I/O error')).History will not be written to the database.\n",
      "People above the age of 65 in Copenhagen:  55750\n"
     ]
    }
   ],
   "source": [
    "#1.5 Create a boolean mask to find out how many people above 65 years lived in Copenhagen in 2015\n",
    "\n",
    "dd = data\n",
    "mask = (dd[:,0] == 2015) & (dd[:,2] > 65)\n",
    "dd = dd[mask]\n",
    "pop_above_age_65 = np.sum(dd[:,4])\n",
    "print(\"People above the age of 65 in Copenhagen: \", pop_above_age_65)"
   ]
  },
  {
   "cell_type": "code",
   "execution_count": 9,
   "metadata": {},
   "outputs": [
    {
     "name": "stdout",
     "output_type": "stream",
     "text": [
      "Nordiske beboere over 65 år:  608.0\n"
     ]
    }
   ],
   "source": [
    "#1.6 How many of those were from the other nordic countries (not dk). Hint: see notebook: \"04 Numpy\"\n",
    "\n",
    "nordic_countries = [\"Norge\",\"Sverige\",\"Finland\",\"Island\",\"Grønland\"]\n",
    "old_nords = 0 \n",
    "for c_code, c_name in country_codes.items(): \n",
    "    if c_name in nordic_countries: \n",
    "        #print(c_code) \n",
    "        #print(c_name) \n",
    "        mask = (data[:,0] == 2015) & (data[:,2] > 65) & (data[:,3] == c_code) \n",
    "        country_sum = (data[mask][:,4].sum()) \n",
    "        #print(country_sum)\n",
    "        old_nords += country_sum\n",
    "print(\"Nordiske beboere over 65 år: \",old_nords) \n",
    "\n",
    "# control the sum by slicing a different way\n",
    "# control = dd[np.isin(dd[:,3],[5101,5104,5106,5110,5120])]\n",
    "# control = control[(control[:,0] == 2015) & (control[:,2]>65)]\n",
    "#control[:,4].sum()"
   ]
  },
  {
   "cell_type": "code",
   "execution_count": 10,
   "metadata": {},
   "outputs": [],
   "source": [
    "#1.7 Make a line plot showing the changes of number of people in vesterbro and østerbro from 1992 to 2015\n",
    "def get_key(my_dict, val):\n",
    "    for key, value in my_dict.items():\n",
    "         if val == value:\n",
    "            return key\n",
    " \n",
    "    return \"key doesn't exist\"\n",
    "\n",
    "def population_change_by_city(city) :\n",
    "    c_code = get_key(neighb, city)\n",
    "    #print(c_code)\n",
    "    dd = data\n",
    "    c_mask = dd[:,1] == c_code\n",
    "    dd = dd[c_mask]\n",
    "    all_years = set(dd[:,0])\n",
    "    #print(all_years)\n",
    "    population_by_year = {}\n",
    "    for year in all_years:\n",
    "        y_mask = dd[:,0] == year\n",
    "        #print(np.sum(dd[y_mask][:,4]))\n",
    "        population_by_year[year] = np.sum(dd[y_mask][:,4])\n",
    "    \n",
    "    return population_by_year"
   ]
  },
  {
   "cell_type": "code",
   "execution_count": 11,
   "metadata": {},
   "outputs": [],
   "source": [
    "pop_vesterbro = population_change_by_city(\"Vesterbro/Kgs. Enghave\")\n",
    "pop_østerbro = population_change_by_city(\"Østerbro\")"
   ]
  },
  {
   "cell_type": "code",
   "execution_count": 12,
   "metadata": {},
   "outputs": [
    {
     "data": {
      "text/plain": [
       "<matplotlib.legend.Legend at 0x7f57f7b56ad0>"
      ]
     },
     "execution_count": 12,
     "metadata": {},
     "output_type": "execute_result"
    },
    {
     "data": {
      "image/png": "[encoded data removed]",
      "text/plain": [
       "<Figure size 432x288 with 1 Axes>"
      ]
     },
     "metadata": {
      "needs_background": "light"
     },
     "output_type": "display_data"
    }
   ],
   "source": [
    "plt.ylabel(\"Population\")\n",
    "plt.xlabel(\"Year\")\n",
    "p1 = plt.plot(list(pop_østerbro.keys()), list(pop_østerbro.values()), label=\"Østerbro\")\n",
    "p2 = plt.plot(list(pop_vesterbro.keys()), list(pop_vesterbro.values()), label = \"Vesterbro\")\n",
    "plt.legend(loc=0)"
   ]
  },
  {
   "cell_type": "markdown",
   "metadata": {},
   "source": [
    "## Solution part 2"
   ]
  },
  {
   "cell_type": "code",
   "execution_count": 13,
   "metadata": {},
   "outputs": [],
   "source": [
    "from modules import webget"
   ]
  },
  {
   "cell_type": "code",
   "execution_count": 14,
   "metadata": {},
   "outputs": [
    {
     "data": {
      "text/plain": [
       "'./data/Dansk_statistik.csv'"
      ]
     },
     "execution_count": 14,
     "metadata": {},
     "output_type": "execute_result"
    }
   ],
   "source": [
    "#2.1 From \"Danmarks Statistik\" download demographic data here:\n",
    "\n",
    "url = \"https://api.statbank.dk/v1/data/FOLK1A/CSV?valuePresentation=Code&delimiter=Semicolon&OMR%C3%85DE=000%2C084%2C147%2C400%2C085%2C083%2C082%2C081%2C851%2C461%2C561%2C751&K%C3%98N=1%2C2&ALDER=0%2C1%2C2%2C3%2C4%2C5%2C6%2C7%2C8%2C9%2C10%2C11%2C12%2C13%2C14%2C15%2C16%2C17%2C18%2C19%2C20%2C21%2C22%2C23%2C24%2C25%2C26%2C27%2C28%2C29%2C30%2C31%2C32%2C33%2C34%2C35%2C36%2C37%2C3%2C39%2C40%2C41%2C42%2C43%2C44%2C45%2C46%2C47%2C48%2C49%2C50%2C51%2C52%2C53%2C54%2C55%2C56%2C57%2C58%2C59%2C60%2C61%2C62%2C63%2C64%2C65%2C66%2C67%2C68%2C69%2C70%2C71%2C72%2C73%2C74%2C75%2C76%2C77%2C78%2C79%2C80%2C81%2C82%2C83%2C84%2C85%2C86%2C87%2C88%2C89%2C90%2C91%2C92%2C93%2C94%2C95%2C96%2C97%2C98%2C99%2C100&Tid=2008K1%2C2009K1%2C2010K1%2C2011K1%2C2012K1%2C2013K1%2C2014K1%2C2015K1%2C2016K1%2C2017K1%2C2018K1%2C2019K1%2C2020K1\"\n",
    "webget.download(url, './data/Dansk_statistik.csv')"
   ]
  },
  {
   "cell_type": "code",
   "execution_count": 191,
   "metadata": {},
   "outputs": [
    {
     "name": "stdout",
     "output_type": "stream",
     "text": [
      "[[   84     1     0  2020 11525]\n",
      " [   84     1     1  2020 11066]\n",
      " [   84     1     2  2020 10868]\n",
      " ...\n",
      " [  751     2    98  2020    44]\n",
      " [  751     2    99  2020    36]\n",
      " [  751     2   100  2020    23]]\n"
     ]
    }
   ],
   "source": [
    "#2.2 clean up the data so it only contains numbers. (If you find this hard to do then Pandas can help (we will cover it next week)\n",
    "\n",
    "import pandas as pd \n",
    "url = './data/Dansk_statistik.csv'\n",
    "df = pd.read_csv(url,sep=';')\n",
    "df['TID'] = df['TID'].map(lambda x:x[:-2]) #cut the last 2 characters\n",
    "df.to_csv('./data/Dansk_statistik_cleaned.csv',header=False, index=False)\n",
    "\n",
    "with open('./data/Dansk_statistik_cleaned.csv') as stats:\n",
    "    statdata = np.genfromtxt(stats, delimiter=',', dtype=np.uint)\n",
    "    \n",
    "    \n",
    "\n",
    "    \n",
    "mask = (statdata[:,0] != 000) & (statdata[:,3] == 2020)\n",
    "statdata = statdata[mask]\n",
    "print(statdata)\n",
    "np.savetxt('./data/statdata.csv', statdata, fmt='%d', delimiter=',', newline='\\n', encoding=None)\n",
    "\n",
    "# mask = (data[:,0] == 2015) & (data[:,2] > 65) & (data[:,3] == c_code) \n",
    "#         country_sum = (data[mask][:,4].sum()) "
   ]
  },
  {
   "cell_type": "code",
   "execution_count": 204,
   "metadata": {},
   "outputs": [
    {
     "name": "stdout",
     "output_type": "stream",
     "text": [
      "[[    0     1     0  2008 32976]\n",
      " [    0     1     0  2009 33656]\n",
      " [    0     1     0  2010 32435]\n",
      " ...\n",
      " [  751     2   100  2018    18]\n",
      " [  751     2   100  2019    21]\n",
      " [  751     2   100  2020    23]]\n"
     ]
    }
   ],
   "source": [
    "#2.3 Now load your demographic data with numpy. (Hint: use np.loadtxt() with dtype and delimiter).\n",
    "\n",
    "dd = np.loadtxt('./data/Dansk_statistik_cleaned.csv', delimiter=',', dtype=np.uint)\n",
    "print(dd)"
   ]
  },
  {
   "cell_type": "code",
   "execution_count": 195,
   "metadata": {
    "scrolled": true
   },
   "outputs": [
    {
     "name": "stdout",
     "output_type": "stream",
     "text": [
      "[['000' 'Hele-landet']\n",
      " ['084' 'Region-Hovedstaden']\n",
      " ['101' 'København']\n",
      " ['147' 'Frederiksberg']\n",
      " ['155' 'Dragør']\n",
      " ['185' 'Tårnby']\n",
      " ['165' 'Albertslund']\n",
      " ['151' 'Ballerup']\n",
      " ['153' 'Brøndby']\n",
      " ['157' 'Gentofte']\n",
      " ['159' 'Gladsaxe']\n",
      " ['161' 'Glostrup']\n",
      " ['163' 'Herlev']\n",
      " ['167' 'Hvidovre']\n",
      " ['169' 'Høje-Taastrup']\n",
      " ['183' 'Ishøj']\n",
      " ['173' 'Lyngby-Taarbæk']\n",
      " ['175' 'Rødovre']\n",
      " ['187' 'Vallensbæk']\n",
      " ['201' 'Allerød']\n",
      " ['240' 'Egedal']\n",
      " ['210' 'Fredensborg']\n",
      " ['250' 'Frederikssund']\n",
      " ['190' 'Furesø']\n",
      " ['270' 'Gribskov']\n",
      " ['260' 'Halsnæs']\n",
      " ['217' 'Helsingør']\n",
      " ['219' 'Hillerød']\n",
      " ['223' 'Hørsholm']\n",
      " ['230' 'Rudersdal']\n",
      " ['400' 'Bornholm']\n",
      " ['411' 'Christiansø']\n",
      " ['085' 'Region-Sjælland']\n",
      " ['253' 'Greve']\n",
      " ['259' 'Køge']\n",
      " ['350' 'Lejre']\n",
      " ['265' 'Roskilde']\n",
      " ['269' 'Solrød']\n",
      " ['320' 'Faxe']\n",
      " ['376' 'Guldborgsund']\n",
      " ['316' 'Holbæk']\n",
      " ['326' 'Kalundborg']\n",
      " ['360' 'Lolland']\n",
      " ['370' 'Næstved']\n",
      " ['306' 'Odsherred']\n",
      " ['329' 'Ringsted']\n",
      " ['330' 'Slagelse']\n",
      " ['340' 'Sorø']\n",
      " ['336' 'Stevns']\n",
      " ['390' 'Vordingborg']\n",
      " ['083' 'Region-Syddanmark']\n",
      " ['420' 'Assens']\n",
      " ['430' 'Faaborg-Midtfyn']\n",
      " ['440' 'Kerteminde']\n",
      " ['482' 'Langeland']\n",
      " ['410' 'Middelfart']\n",
      " ['480' 'Nordfyns']\n",
      " ['450' 'Nyborg']\n",
      " ['461' 'Odense']\n",
      " ['479' 'Svendborg']\n",
      " ['492' 'Ærø']\n",
      " ['530' 'Billund']\n",
      " ['561' 'Esbjerg']\n",
      " ['563' 'Fanø']\n",
      " ['607' 'Fredericia']\n",
      " ['510' 'Haderslev']\n",
      " ['621' 'Kolding']\n",
      " ['540' 'Sønderborg']\n",
      " ['550' 'Tønder']\n",
      " ['573' 'Varde']\n",
      " ['575' 'Vejen']\n",
      " ['630' 'Vejle']\n",
      " ['580' 'Aabenraa']\n",
      " ['082' 'Region-Midtjylland']\n",
      " ['710' 'Favrskov']\n",
      " ['766' 'Hedensted']\n",
      " ['615' 'Horsens']\n",
      " ['707' 'Norddjurs']\n",
      " ['727' 'Odder']\n",
      " ['730' 'Randers']\n",
      " ['741' 'Samsø']\n",
      " ['740' 'Silkeborg']\n",
      " ['746' 'Skanderborg']\n",
      " ['706' 'Syddjurs']\n",
      " ['751' 'Aarhus']\n",
      " ['657' 'Herning']\n",
      " ['661' 'Holstebro']\n",
      " ['756' 'Ikast-Brande']\n",
      " ['665' 'Lemvig']\n",
      " ['760' 'Ringkøbing-Skjern']\n",
      " ['779' 'Skive']\n",
      " ['671' 'Struer']\n",
      " ['791' 'Viborg']\n",
      " ['081' 'Region-Nordjylland']\n",
      " ['810' 'Brønderslev']\n",
      " ['813' 'Frederikshavn']\n",
      " ['860' 'Hjørring']\n",
      " ['849' 'Jammerbugt']\n",
      " ['825' 'Læsø']\n",
      " ['846' 'Mariagerfjord']\n",
      " ['773' 'Morsø']\n",
      " ['840' 'Rebild']\n",
      " ['787' 'Thisted']\n",
      " ['820' 'Vesthimmerlands']\n",
      " ['851' 'Aalborg']]\n"
     ]
    }
   ],
   "source": [
    "#2.4 Use file: BY_KODER_demographics.csv to get cities from the city codes\n",
    "\n",
    "with open('data/DKstat_bykoder.csv') as file_object:\n",
    "    by_koder = np.genfromtxt(file_object, delimiter=',', dtype=str, encoding=None)\n",
    "print(by_koder)"
   ]
  },
  {
   "cell_type": "code",
   "execution_count": 225,
   "metadata": {},
   "outputs": [
    {
     "name": "stdout",
     "output_type": "stream",
     "text": [
      "3368290\n",
      "{84: 26.562, 101: 0.0, 147: 1.4493, 155: 0.0, 185: 0.0, 165: 0.0, 151: 0.0, 153: 0.0, 157: 0.0, 159: 0.0, 161: 0.0, 163: 0.0, 167: 0.0, 169: 0.0, 183: 0.0, 173: 0.0, 175: 0.0, 187: 0.0, 201: 0.0, 240: 0.0, 210: 0.0, 250: 0.0, 190: 0.0, 270: 0.0, 260: 0.0, 217: 0.0, 219: 0.0, 223: 0.0, 230: 0.0, 400: 0.57531, 411: 0.0, 85: 12.269, 253: 0.0, 259: 0.0, 350: 0.0, 265: 0.0, 269: 0.0, 320: 0.0, 376: 0.0, 316: 0.0, 326: 0.0, 360: 0.0, 370: 0.0, 306: 0.0, 329: 0.0, 330: 0.0, 340: 0.0, 336: 0.0, 390: 0.0, 83: 17.965, 420: 0.0, 430: 0.0, 440: 0.0, 482: 0.0, 410: 0.0, 480: 0.0, 450: 0.0, 461: 2.9805, 479: 0.0, 492: 0.0, 530: 0.0, 561: 1.7006, 563: 0.0, 607: 0.0, 510: 0.0, 621: 0.0, 540: 0.0, 550: 0.0, 573: 0.0, 575: 0.0, 630: 0.0, 580: 0.0, 82: 19.483, 710: 0.0, 766: 0.0, 615: 0.0, 707: 0.0, 727: 0.0, 730: 0.0, 741: 0.0, 740: 0.0, 746: 0.0, 706: 0.0, 751: 5.0475, 657: 0.0, 661: 0.0, 756: 0.0, 665: 0.0, 760: 0.0, 779: 0.0, 671: 0.0, 791: 0.0, 81: 8.7537, 810: 0.0, 813: 0.0, 860: 0.0, 849: 0.0, 825: 0.0, 846: 0.0, 773: 0.0, 840: 0.0, 787: 0.0, 820: 0.0, 851: 3.2139}\n"
     ]
    }
   ],
   "source": [
    "def summed_by_city(city_codes):\n",
    "    mask = (dd[:,3] == 2020) & (dd[:,0] != 0) & (dd[:,1] == 1) \n",
    "    data = dd[mask]\n",
    "    \n",
    "    total_population_sum = np.sum(data[:,4])\n",
    "    print(total_population_sum)\n",
    "    pop_sum_by_city = {}\n",
    "    \n",
    "    for city_code in city_codes[1:]:\n",
    "        c_code_mask = data[:,0] == int(city_code[0])\n",
    "        pop_sum_by_city[int(city_code[0])] = float(format((np.sum(data[c_code_mask][:,4]) / total_population_sum) * 100, '.5g'))\n",
    "\n",
    "    \n",
    "    \n",
    "    \n",
    "    return pop_sum_by_city\n",
    "\n",
    "\n",
    "\n",
    "pop_by_city = summed_by_city(by_koder)\n",
    "print(pop_by_city)\n",
    "\n",
    "\n",
    "\n",
    "#reference 6.777.069"
   ]
  },
  {
   "cell_type": "code",
   "execution_count": 244,
   "metadata": {},
   "outputs": [
    {
     "name": "stdout",
     "output_type": "stream",
     "text": [
      "{0: '000', 1: 'Hele-landet', 2: '084', 3: 'Region-Hovedstaden', 4: '101', 5: 'København', 6: '147', 7: 'Frederiksberg', 8: '155', 9: 'Dragør', 10: '185', 11: 'Tårnby', 12: '165', 13: 'Albertslund', 14: '151', 15: 'Ballerup', 16: '153', 17: 'Brøndby', 18: '157', 19: 'Gentofte', 20: '159', 21: 'Gladsaxe', 22: '161', 23: 'Glostrup', 24: '163', 25: 'Herlev', 26: '167', 27: 'Hvidovre', 28: '169', 29: 'Høje-Taastrup', 30: '183', 31: 'Ishøj', 32: '173', 33: 'Lyngby-Taarbæk', 34: '175', 35: 'Rødovre', 36: '187', 37: 'Vallensbæk', 38: '201', 39: 'Allerød', 40: '240', 41: 'Egedal', 42: '210', 43: 'Fredensborg', 44: '250', 45: 'Frederikssund', 46: '190', 47: 'Furesø', 48: '270', 49: 'Gribskov', 50: '260', 51: 'Halsnæs', 52: '217', 53: 'Helsingør', 54: '219', 55: 'Hillerød', 56: '223', 57: 'Hørsholm', 58: '230', 59: 'Rudersdal', 60: '400', 61: 'Bornholm', 62: '411', 63: 'Christiansø', 64: '085', 65: 'Region-Sjælland', 66: '253', 67: 'Greve', 68: '259', 69: 'Køge', 70: '350', 71: 'Lejre', 72: '265', 73: 'Roskilde', 74: '269', 75: 'Solrød', 76: '320', 77: 'Faxe', 78: '376', 79: 'Guldborgsund', 80: '316', 81: 'Holbæk', 82: '326', 83: 'Kalundborg', 84: '360', 85: 'Lolland', 86: '370', 87: 'Næstved', 88: '306', 89: 'Odsherred', 90: '329', 91: 'Ringsted', 92: '330', 93: 'Slagelse', 94: '340', 95: 'Sorø', 96: '336', 97: 'Stevns', 98: '390', 99: 'Vordingborg', 100: '083', 101: 'Region-Syddanmark', 102: '420', 103: 'Assens', 104: '430', 105: 'Faaborg-Midtfyn', 106: '440', 107: 'Kerteminde', 108: '482', 109: 'Langeland', 110: '410', 111: 'Middelfart', 112: '480', 113: 'Nordfyns', 114: '450', 115: 'Nyborg', 116: '461', 117: 'Odense', 118: '479', 119: 'Svendborg', 120: '492', 121: 'Ærø', 122: '530', 123: 'Billund', 124: '561', 125: 'Esbjerg', 126: '563', 127: 'Fanø', 128: '607', 129: 'Fredericia', 130: '510', 131: 'Haderslev', 132: '621', 133: 'Kolding', 134: '540', 135: 'Sønderborg', 136: '550', 137: 'Tønder', 138: '573', 139: 'Varde', 140: '575', 141: 'Vejen', 142: '630', 143: 'Vejle', 144: '580', 145: 'Aabenraa', 146: '082', 147: 'Region-Midtjylland', 148: '710', 149: 'Favrskov', 150: '766', 151: 'Hedensted', 152: '615', 153: 'Horsens', 154: '707', 155: 'Norddjurs', 156: '727', 157: 'Odder', 158: '730', 159: 'Randers', 160: '741', 161: 'Samsø', 162: '740', 163: 'Silkeborg', 164: '746', 165: 'Skanderborg', 166: '706', 167: 'Syddjurs', 168: '751', 169: 'Aarhus', 170: '657', 171: 'Herning', 172: '661', 173: 'Holstebro', 174: '756', 175: 'Ikast-Brande', 176: '665', 177: 'Lemvig', 178: '760', 179: 'Ringkøbing-Skjern', 180: '779', 181: 'Skive', 182: '671', 183: 'Struer', 184: '791', 185: 'Viborg', 186: '081', 187: 'Region-Nordjylland', 188: '810', 189: 'Brønderslev', 190: '813', 191: 'Frederikshavn', 192: '860', 193: 'Hjørring', 194: '849', 195: 'Jammerbugt', 196: '825', 197: 'Læsø', 198: '846', 199: 'Mariagerfjord', 200: '773', 201: 'Morsø', 202: '840', 203: 'Rebild', 204: '787', 205: 'Thisted', 206: '820', 207: 'Vesthimmerlands', 208: '851', 209: 'Aalborg'}\n",
      "<class 'numpy.ndarray'>\n"
     ]
    }
   ],
   "source": [
    "#2.5 Now find out which city in 2020 has the highest percentage of men (gender code 1),(Hint: create a function to return summed up data by city code ala: def summed_by_city(city_code): returning pct_male\n",
    "\n",
    "highest_percent_of_men_by_city = max(pop_by_city, key=pop_by_city.get)\n",
    "# print(type(str(highest_percent_of_men_by_city)))\n",
    "\n",
    "# print(by_koder.get(highest_percent_of_men_by_city))\n",
    "d = dict(enumerate(by_koder.flatten(), 0))\n",
    "print(d)\n",
    "print(type(by_koder))"
   ]
  },
  {
   "cell_type": "code",
   "execution_count": null,
   "metadata": {},
   "outputs": [],
   "source": []
  }
 ],
 "metadata": {
  "kernelspec": {
   "display_name": "Python 3",
   "language": "python",
   "name": "python3"
  },
  "language_info": {
   "codemirror_mode": {
    "name": "ipython",
    "version": 3
   },
   "file_extension": ".py",
   "mimetype": "text/x-python",
   "name": "python",
   "nbconvert_exporter": "python",
   "pygments_lexer": "ipython3",
   "version": "3.7.6"
  }
 },
 "nbformat": 4,
 "nbformat_minor": 4
}
